{
 "cells": [
  {
   "cell_type": "markdown",
   "metadata": {},
   "source": [
    "## T1 accuracy & inter-vendor agreement\n",
    "\n",
    "<img src=\"https://upload.wikimedia.org/wikipedia/commons/thumb/c/c3/Python-logo-notext.svg/1200px-Python-logo-notext.svg.png\" width=\"50px\"/>\n",
    "\n",
    "T1 plate of the ISMRM/NIST system phantom was scanned with the following T1 mapping protocol:\n",
    "\n",
    "```{admonition} Click here to reveal the variable flip angle (VFA) protocol.\n",
    ":class: dropdown\n",
    "\n",
    "|Parameter (PDw/T1w)|G1<sub>NATIVE</sub>|S1<sub>NATIVE</sub>|S2<sub>NATIVE</sub>| VENUS|\n",
    "|---------|-----------|-----------|-----------|-----|\n",
    "| Sequence Name | SPGR  | FLASH| FLASH| mt_sat v1.0 |\n",
    "| Flip Angle (°) | 6/20  | 6/20| 6/20| 6/20 |\n",
    "| TR (ms) | 32/18  | 32/18| 32/18| 32/18 |\n",
    "| TE (ms) | 4  | 4| 4| 4|\n",
    "| FOV (cm) | 25.6  | 25.6| 25.6| 25.6|\n",
    "| Acquisition Matrix | 256x256  | 256x256| 256x256| 256x256|\n",
    "| Receiver BW (kHz) | 62.5  | 62.5| 62.5| 62.5|\n",
    "| RF Phase Increment (°) | 115.4  | 50| 50| 117|\n",
    "\n",
    "```\n",
    "\n",
    "The nominal T1 values (s) of the system phantom (SN = 42) were `1.98`, `1.45`, `0.98`, `0.71`, `0.5`, `0.35`, `0.24`, `0.17`, `0.13`, `0.09` in 10 reference spheres (**R1- R10**) of the phantom. These values are shown using white cross markers throughout this notebook.\n",
    "\n",
    "```{admonition} Note\n",
    "The following code cell loads all the necessary Python packages, defines common variables and downloads the data to `/tmp/VENUS` directory. If data already exists, the download will be skipped.\n",
    "```"
   ]
  },
  {
   "cell_type": "code",
   "execution_count": 10,
   "metadata": {
    "tags": [
     "hide-input"
    ]
   },
   "outputs": [
    {
     "data": {
      "text/html": [
       "        <script type=\"text/javascript\">\n",
       "        window.PlotlyConfig = {MathJaxConfig: 'local'};\n",
       "        if (window.MathJax) {MathJax.Hub.Config({SVG: {font: \"STIX-Web\"}});}\n",
       "        if (typeof require !== 'undefined') {\n",
       "        require.undef(\"plotly\");\n",
       "        requirejs.config({\n",
       "            paths: {\n",
       "                'plotly': ['https://cdn.plot.ly/plotly-latest.min']\n",
       "            }\n",
       "        });\n",
       "        require(['plotly'], function(Plotly) {\n",
       "            window._Plotly = Plotly;\n",
       "        });\n",
       "        }\n",
       "        </script>\n",
       "        "
      ]
     },
     "metadata": {},
     "output_type": "display_data"
    }
   ],
   "source": [
    "import plotly.graph_objs as go\n",
    "import plotly.express as px\n",
    "from plotly import tools, subplots\n",
    "import numpy as np\n",
    "import pandas as pd\n",
    "import ipywidgets as widgets\n",
    "import math\n",
    "from plotly.offline import download_plotlyjs, init_notebook_mode, plot, iplot\n",
    "from ipywidgets import interact, interactive, fixed, interact_manual\n",
    "init_notebook_mode(connected=True)\n",
    "from IPython.core.display import display, HTML\n",
    "import scipy.io as sio\n",
    "import random\n",
    "random.seed(123)\n",
    "\n",
    "from repo2data.repo2data import Repo2Data\n",
    "import os \n",
    "# data_req_path = os.path.join(\"..\", \"binder\", \"data_requirement.json\")\n",
    "# repo2data = Repo2Data(data_req_path)\n",
    "#data_path = repo2data.install()[0]\n",
    "data_path = \"/Users/agah/Desktop/neuropoly/ismrm23/ds-sysupgrade\"\n",
    "derivativesDir = os.path.join(data_path,\"derivatives\",\"qMRFlow\")\n",
    "\n",
    "spheres = [1, 2, 3, 4, 5, 6, 7, 8, 9, 10]\n",
    "refMean = [1.989,1.454,0.9841,0.706,0.4967,0.3515,0.24713,0.1753,0.1259,0.089]\n",
    "sessions = ['rthSKYrev','rthSKYxa30_acq-test','rthSKYxa30_acq-manualrefv',\n",
    "            'vendorSKYrev','vendorSKYxa30_acq-test','vendorSKYxa30_acq-manualrefv']\n",
    "\n",
    "\n",
    "convert_tag = {'rthSKYrev':'VENUS<br><i>VE11</i>', 'rthSKYxa30_acq-test':'VENUS<br><i>XA30new</i>','rthSKYxa30_acq-manualrefv':'VENUS<br><i>XA30old</i>',\n",
    "               'vendorSKYrev':'NATIVE<br><i>VE11</i>','vendorSKYxa30_acq-test':'NATIVE<br><i>XA30new</i>','vendorSKYxa30_acq-manualrefv':'NATIVE<br><i>XA30old</i>'}\n",
    "\n",
    "colors = {'rthSKYrev':'rgba(255,220,0,1)','rthSKYxa30_acq-test':'black','rthSKYxa30_acq-manualrefv':'rgba(255,220,0,1)',\n",
    "               'vendorSKYrev':'rgba(0,248,205,1)','vendorSKYxa30_acq-test':'black','vendorSKYxa30_acq-manualrefv':'rgba(0,248,205,1)'}\n",
    "colors2 = {'rthSKYrev':'orange','rthSKYxa30_acq-test':'black','rthSKYxa30_acq-manualrefv':'orange',\n",
    "               'vendorSKYrev':'rgba(0,200,205,1)','vendorSKYxa30_acq-test':'black','vendorSKYxa30_acq-manualrefv':'rgba(0,200,205,1)'}\n",
    "#colors = {'rth750':'rgba(255,8,30,1)','rthPRI':'rgba(255,117,0,1)','rthSKY':'rgba(255,220,0,1)',\n",
    "#         'vendor750':'rgba(13,186,233,1)','vendorPRI':'rgba(2.5,187,180,1)','vendorSKY':'rgba(0,248,205,1)'}\n",
    "\n",
    "line_dash = {'rthSKYrev':'dash','rthSKYxa30_acq-test':'dash','rthSKYxa30_acq-manualrefv':'dash',\n",
    "               'vendorSKYrev':'solid','vendorSKYxa30_acq-test':'solid','vendorSKYxa30_acq-manualrefv':'solid'}\n",
    "\n",
    "colors_line = {'rthSKYrev':'rgba(255,220,0,0.2)','rthSKYxa30_acq-test':'rgba(0,0,0,0.2)', 'rthSKYxa30_acq-manualrefv':'rgba(255,220,0,0.2)',\n",
    "               'vendorSKYrev':'rgba(0,248,205,0.2)','vendorSKYxa30_acq-test':'rgba(0,0,0,0.2)','vendorSKYxa30_acq-manualrefv':'rgba(0,248,205,0.2)'}\n",
    "\n",
    "line_sym = {'rthSKYrev':'circle','rthSKYxa30_acq-test':'arrow-bar-down', 'rthSKYxa30_acq-manualrefv':'circle-x',\n",
    "               'vendorSKYrev':'square','vendorSKYxa30_acq-test':'arrow-bar-down', 'vendorSKYxa30_acq-manualrefv':'square-x'}\n",
    "\n"
   ]
  },
  {
   "cell_type": "markdown",
   "metadata": {},
   "source": [
    "### Peak SNR values\n",
    "\n",
    "`````{admonition} Note\n",
    ":class: tip\n",
    "Reproduces Figure 3a from the [article](https://www.biorxiv.org/content/10.1101/2021.12.27.474259v2).\n",
    "`````\n",
    "\n",
    "Calculations of `signal` (average value of the highest signal sphere) and `noise` (background standard deviation) were performed manually using 3D Slicer.\n",
    "\n",
    "> VENUS PSNR values are on a par with those of vendor-native T1w and PDw images (Fig. 3a)."
   ]
  },
  {
   "cell_type": "markdown",
   "metadata": {},
   "source": [
    "### VENUS vs NATIVE `T1` estimations\n",
    "\n",
    "`````{admonition} Note\n",
    ":class: tip\n",
    "Reproduces Figure 4b from the [article](https://www.biorxiv.org/content/10.1101/2021.12.27.474259v2).\n",
    "`````\n",
    "\n",
    "T1 values from the vendor-native acquisitions are represented by solid lines and square markers in cold colors, and those from VENUS attain dashed lines and circle markers in hot colors. \n",
    "\n",
    "> Vendor-native measurements, especially G1<sub>NATIVE</sub> and S2<sub>NATIVE</sub>, overestimate T1. G1<sub>VENUS</sub> and S1-2<sub>VENUS</sub> remain closer to the reference."
   ]
  },
  {
   "cell_type": "code",
   "execution_count": 28,
   "metadata": {
    "tags": [
     "hide-input"
    ]
   },
   "outputs": [
    {
     "data": {
      "application/vnd.plotly.v1+json": {
       "config": {
        "plotlyServerURL": "https://plot.ly"
       },
       "data": [
        {
         "line": {
          "color": "red"
         },
         "marker": {
          "size": 28,
          "symbol": "diamond-wide"
         },
         "mode": "markers",
         "name": "Reference",
         "type": "scatter",
         "x": [
          1.989,
          1.454,
          0.9841,
          0.706,
          0.4967,
          0.3515,
          0.24713,
          0.1753,
          0.1259,
          0.089
         ],
         "y": [
          1.989,
          1.454,
          0.9841,
          0.706,
          0.4967,
          0.3515,
          0.24713,
          0.1753,
          0.1259,
          0.089
         ]
        },
        {
         "fill": "toself",
         "fillcolor": "rgba(255,220,0,0.2)",
         "legendgroup": "rthSKYrev",
         "line": {
          "color": "rgba(255,0,0,0)"
         },
         "name": "VENUS<br><i>VE11</i>",
         "showlegend": false,
         "type": "scatter",
         "x": [
          1.989,
          1.454,
          0.9841,
          0.706,
          0.4967,
          0.3515,
          0.24713,
          0.1753,
          0.1259,
          0.089,
          0.089,
          0.1259,
          0.1753,
          0.24713,
          0.3515,
          0.4967,
          0.706,
          0.9841,
          1.454,
          1.989
         ],
         "y": [
          2.071174,
          1.461109,
          1.030757,
          0.7157729999999999,
          0.484557,
          0.3338403,
          0.2590154,
          0.214017,
          0.1567784,
          0.1054551,
          0.0948049,
          0.1409216,
          0.19226300000000002,
          0.23950459999999998,
          0.3139997,
          0.45654300000000003,
          0.675507,
          0.9708429999999999,
          1.3806910000000001,
          1.911426
         ]
        },
        {
         "customdata": [
          0.12,
          -2.28,
          1.7,
          -1.47,
          -5.26,
          -7.85,
          0.86,
          15.88,
          18.23,
          12.51
         ],
         "hoverlabel": {
          "namelength": -1
         },
         "hovertemplate": "<br>%{y},<b>∆T1:</b>%{customdata}",
         "legendgroup": "rthSKYrev",
         "line": {
          "color": "orange",
          "dash": "dash",
          "width": 3
         },
         "marker": {
          "color": "orange",
          "line": {
           "color": "black",
           "width": 1.5
          },
          "opacity": 0.85,
          "size": 20,
          "symbol": "circle"
         },
         "name": "VENUS<br><i>VE11</i>",
         "type": "scatter",
         "x": [
          1.989,
          1.454,
          0.9841,
          0.706,
          0.4967,
          0.3515,
          0.24713,
          0.1753,
          0.1259,
          0.089
         ],
         "y": [
          1.9913,
          1.4209,
          1.0008,
          0.6956399999999999,
          0.47055,
          0.32392,
          0.24925999999999998,
          0.20314000000000002,
          0.14885,
          0.10013
         ]
        },
        {
         "fill": "toself",
         "fillcolor": "rgba(0,0,0,0.2)",
         "legendgroup": "rthSKYxa30_acq-test",
         "line": {
          "color": "rgba(255,0,0,0)"
         },
         "name": "VENUS<br><i>XA30new</i>",
         "showlegend": false,
         "type": "scatter",
         "x": [
          1.989,
          1.454,
          0.9841,
          0.706,
          0.4967,
          0.3515,
          0.24713,
          0.1753,
          0.1259,
          0.089,
          0.089,
          0.1259,
          0.1753,
          0.24713,
          0.3515,
          0.4967,
          0.706,
          0.9841,
          1.454,
          1.989
         ],
         "y": [
          1.737298,
          1.218395,
          0.8575670000000001,
          0.604233,
          0.406891,
          0.278015,
          0.21729500000000002,
          0.1814228,
          0.12845489999999998,
          0.0894796,
          0.0781224,
          0.1188451,
          0.1646572,
          0.19648500000000002,
          0.25160499999999997,
          0.373969,
          0.5613870000000001,
          0.7986730000000001,
          1.140605,
          1.5999020000000002
         ]
        },
        {
         "customdata": [
          -16.11,
          -18.88,
          -15.85,
          -17.45,
          -21.4,
          -24.66,
          -16.28,
          -1.29,
          -1.79,
          -5.84
         ],
         "hoverlabel": {
          "namelength": -1
         },
         "hovertemplate": "<br>%{y},<b>∆T1:</b>%{customdata}",
         "legendgroup": "rthSKYxa30_acq-test",
         "line": {
          "color": "black",
          "dash": "dash",
          "width": 3
         },
         "marker": {
          "color": "black",
          "line": {
           "color": "black",
           "width": 1.5
          },
          "opacity": 0.85,
          "size": 20,
          "symbol": "arrow-bar-down"
         },
         "name": "VENUS<br><i>XA30new</i>",
         "type": "scatter",
         "x": [
          1.989,
          1.454,
          0.9841,
          0.706,
          0.4967,
          0.3515,
          0.24713,
          0.1753,
          0.1259,
          0.089
         ],
         "y": [
          1.6686,
          1.1795,
          0.8281200000000001,
          0.58281,
          0.39043,
          0.26481,
          0.20689000000000002,
          0.17304,
          0.12365,
          0.083801
         ]
        },
        {
         "fill": "toself",
         "fillcolor": "rgba(255,220,0,0.2)",
         "legendgroup": "rthSKYxa30_acq-manualrefv",
         "line": {
          "color": "rgba(255,0,0,0)"
         },
         "name": "VENUS<br><i>XA30old</i>",
         "showlegend": false,
         "type": "scatter",
         "x": [
          1.989,
          1.454,
          0.9841,
          0.706,
          0.4967,
          0.3515,
          0.24713,
          0.1753,
          0.1259,
          0.089,
          0.089,
          0.1259,
          0.1753,
          0.24713,
          0.3515,
          0.4967,
          0.706,
          0.9841,
          1.454,
          1.989
         ],
         "y": [
          2.024472,
          1.420682,
          1.036109,
          0.7547659999999999,
          0.529821,
          0.373187,
          0.2833689,
          0.227507,
          0.1591637,
          0.1033766,
          0.09301340000000001,
          0.14429630000000002,
          0.206213,
          0.2646911,
          0.350053,
          0.495259,
          0.691774,
          0.957391,
          1.3435180000000002,
          1.870728
         ]
        },
        {
         "customdata": [
          -2.08,
          -4.94,
          1.29,
          2.45,
          3.19,
          2.88,
          10.88,
          23.71,
          20.52,
          10.33
         ],
         "hoverlabel": {
          "namelength": -1
         },
         "hovertemplate": "<br>%{y},<b>∆T1:</b>%{customdata}",
         "legendgroup": "rthSKYxa30_acq-manualrefv",
         "line": {
          "color": "orange",
          "dash": "dash",
          "width": 3
         },
         "marker": {
          "color": "orange",
          "line": {
           "color": "black",
           "width": 1.5
          },
          "opacity": 0.85,
          "size": 20,
          "symbol": "circle-x"
         },
         "name": "VENUS<br><i>XA30old</i>",
         "type": "scatter",
         "x": [
          1.989,
          1.454,
          0.9841,
          0.706,
          0.4967,
          0.3515,
          0.24713,
          0.1753,
          0.1259,
          0.089
         ],
         "y": [
          1.9476,
          1.3821,
          0.99675,
          0.72327,
          0.51254,
          0.36162,
          0.27403,
          0.21686,
          0.15173,
          0.098195
         ]
        },
        {
         "fill": "toself",
         "fillcolor": "rgba(0,248,205,0.2)",
         "legendgroup": "vendorSKYrev",
         "line": {
          "color": "rgba(255,0,0,0)"
         },
         "name": "NATIVE<br><i>VE11</i>",
         "showlegend": false,
         "type": "scatter",
         "x": [
          1.989,
          1.454,
          0.9841,
          0.706,
          0.4967,
          0.3515,
          0.24713,
          0.1753,
          0.1259,
          0.089,
          0.089,
          0.1259,
          0.1753,
          0.24713,
          0.3515,
          0.4967,
          0.706,
          0.9841,
          1.454,
          1.989
         ],
         "y": [
          2.235038,
          1.587559,
          1.106639,
          0.757887,
          0.507059,
          0.344612,
          0.25378999999999996,
          0.2085991,
          0.14532969999999998,
          0.0978096,
          0.08772440000000001,
          0.1333903,
          0.1888409,
          0.23324999999999999,
          0.317888,
          0.473841,
          0.710953,
          1.031161,
          1.506241,
          2.098162
         ]
        },
        {
         "customdata": [
          8.93,
          6.39,
          8.62,
          4.03,
          -1.26,
          -5.76,
          -1.46,
          13.36,
          10.69,
          4.23
         ],
         "hoverlabel": {
          "namelength": -1
         },
         "hovertemplate": "<br>%{y},<b>∆T1:</b>%{customdata}",
         "legendgroup": "vendorSKYrev",
         "line": {
          "color": "rgba(0,200,205,1)",
          "dash": "solid",
          "width": 3
         },
         "marker": {
          "color": "rgba(0,200,205,1)",
          "line": {
           "color": "black",
           "width": 1.5
          },
          "opacity": 0.85,
          "size": 20,
          "symbol": "square"
         },
         "name": "NATIVE<br><i>VE11</i>",
         "type": "scatter",
         "x": [
          1.989,
          1.454,
          0.9841,
          0.706,
          0.4967,
          0.3515,
          0.24713,
          0.1753,
          0.1259,
          0.089
         ],
         "y": [
          2.1666,
          1.5469,
          1.0689,
          0.73442,
          0.49045,
          0.33125,
          0.24352,
          0.19872,
          0.13935999999999998,
          0.092767
         ]
        },
        {
         "fill": "toself",
         "fillcolor": "rgba(0,0,0,0.2)",
         "legendgroup": "vendorSKYxa30_acq-test",
         "line": {
          "color": "rgba(255,0,0,0)"
         },
         "name": "NATIVE<br><i>XA30new</i>",
         "showlegend": false,
         "type": "scatter",
         "x": [
          1.989,
          1.454,
          0.9841,
          0.706,
          0.4967,
          0.3515,
          0.24713,
          0.1753,
          0.1259,
          0.089,
          0.089,
          0.1259,
          0.1753,
          0.24713,
          0.3515,
          0.4967,
          0.706,
          0.9841,
          1.454,
          1.989
         ],
         "y": [
          1.8199159999999999,
          1.285268,
          0.9059950000000001,
          0.615401,
          0.428539,
          0.289092,
          0.2119558,
          0.1687503,
          0.12352469999999999,
          0.0845815,
          0.06966649999999999,
          0.1078353,
          0.15476969999999998,
          0.19942420000000002,
          0.267328,
          0.395161,
          0.586159,
          0.8606450000000001,
          1.210132,
          1.701084
         ]
        },
        {
         "customdata": [
          -11.49,
          -14.19,
          -10.24,
          -14.9,
          -17.08,
          -20.85,
          -16.77,
          -7.72,
          -8.12,
          -13.34
         ],
         "hoverlabel": {
          "namelength": -1
         },
         "hovertemplate": "<br>%{y},<b>∆T1:</b>%{customdata}",
         "legendgroup": "vendorSKYxa30_acq-test",
         "line": {
          "color": "black",
          "dash": "solid",
          "width": 3
         },
         "marker": {
          "color": "black",
          "line": {
           "color": "black",
           "width": 1.5
          },
          "opacity": 0.85,
          "size": 20,
          "symbol": "arrow-bar-down"
         },
         "name": "NATIVE<br><i>XA30new</i>",
         "type": "scatter",
         "x": [
          1.989,
          1.454,
          0.9841,
          0.706,
          0.4967,
          0.3515,
          0.24713,
          0.1753,
          0.1259,
          0.089
         ],
         "y": [
          1.7605,
          1.2477,
          0.8833200000000001,
          0.60078,
          0.41185,
          0.27821,
          0.20569,
          0.16176,
          0.11567999999999999,
          0.077124
         ]
        },
        {
         "fill": "toself",
         "fillcolor": "rgba(0,248,205,0.2)",
         "legendgroup": "vendorSKYxa30_acq-manualrefv",
         "line": {
          "color": "rgba(255,0,0,0)"
         },
         "name": "NATIVE<br><i>XA30old</i>",
         "showlegend": false,
         "type": "scatter",
         "x": [
          1.989,
          1.454,
          0.9841,
          0.706,
          0.4967,
          0.3515,
          0.24713,
          0.1753,
          0.1259,
          0.089,
          0.089,
          0.1259,
          0.1753,
          0.24713,
          0.3515,
          0.4967,
          0.706,
          0.9841,
          1.454,
          1.989
         ],
         "y": [
          2.172091,
          1.546392,
          1.129711,
          0.816014,
          0.5741710000000001,
          0.400197,
          0.289169,
          0.228691,
          0.153499,
          0.1001135,
          0.0866345,
          0.13832099999999997,
          0.208029,
          0.267551,
          0.366263,
          0.5342490000000001,
          0.759746,
          1.053489,
          1.4630079999999999,
          2.0491089999999996
         ]
        },
        {
         "customdata": [
          6.11,
          3.49,
          10.92,
          11.6,
          11.58,
          9.03,
          12.64,
          24.56,
          15.89,
          4.91
         ],
         "hoverlabel": {
          "namelength": -1
         },
         "hovertemplate": "<br>%{y},<b>∆T1:</b>%{customdata}",
         "legendgroup": "vendorSKYxa30_acq-manualrefv",
         "line": {
          "color": "rgba(0,200,205,1)",
          "dash": "solid",
          "width": 3
         },
         "marker": {
          "color": "rgba(0,200,205,1)",
          "line": {
           "color": "black",
           "width": 1.5
          },
          "opacity": 0.85,
          "size": 20,
          "symbol": "square-x"
         },
         "name": "NATIVE<br><i>XA30old</i>",
         "type": "scatter",
         "x": [
          1.989,
          1.454,
          0.9841,
          0.706,
          0.4967,
          0.3515,
          0.24713,
          0.1753,
          0.1259,
          0.089
         ],
         "y": [
          2.1106,
          1.5047,
          1.0916,
          0.78788,
          0.5542100000000001,
          0.38323,
          0.27836,
          0.21836,
          0.14590999999999998,
          0.093374
         ]
        }
       ],
       "layout": {
        "height": 800,
        "hovermode": "x",
        "legend": {
         "font": {
          "color": "black",
          "size": 14
         },
         "tracegroupgap": 20,
         "x": 1,
         "y": 1
        },
        "margin": {
         "b": 0,
         "l": 0,
         "r": 0,
         "t": 0
        },
        "shapes": [
         {
          "layer": "below",
          "line": {
           "color": "#708090"
          },
          "type": "line",
          "x0": 0,
          "x1": 1.989,
          "xref": "x",
          "y0": 1.989,
          "y1": 1.989,
          "yref": "y"
         },
         {
          "layer": "below",
          "line": {
           "color": "#708090"
          },
          "type": "line",
          "x0": 1.989,
          "x1": 1.989,
          "xref": "x",
          "y0": 0,
          "y1": 1.989,
          "yref": "y"
         },
         {
          "layer": "below",
          "line": {
           "color": "#708090"
          },
          "type": "line",
          "x0": 0,
          "x1": 1.454,
          "xref": "x",
          "y0": 1.454,
          "y1": 1.454,
          "yref": "y"
         },
         {
          "layer": "below",
          "line": {
           "color": "#708090"
          },
          "type": "line",
          "x0": 1.454,
          "x1": 1.454,
          "xref": "x",
          "y0": 0,
          "y1": 1.454,
          "yref": "y"
         },
         {
          "layer": "below",
          "line": {
           "color": "#708090"
          },
          "type": "line",
          "x0": 0,
          "x1": 0.9841,
          "xref": "x",
          "y0": 0.9841,
          "y1": 0.9841,
          "yref": "y"
         },
         {
          "layer": "below",
          "line": {
           "color": "#708090"
          },
          "type": "line",
          "x0": 0.9841,
          "x1": 0.9841,
          "xref": "x",
          "y0": 0,
          "y1": 0.9841,
          "yref": "y"
         },
         {
          "layer": "below",
          "line": {
           "color": "#708090"
          },
          "type": "line",
          "x0": 0,
          "x1": 0.706,
          "xref": "x",
          "y0": 0.706,
          "y1": 0.706,
          "yref": "y"
         },
         {
          "layer": "below",
          "line": {
           "color": "#708090"
          },
          "type": "line",
          "x0": 0.706,
          "x1": 0.706,
          "xref": "x",
          "y0": 0,
          "y1": 0.706,
          "yref": "y"
         },
         {
          "layer": "below",
          "line": {
           "color": "#708090"
          },
          "type": "line",
          "x0": 0,
          "x1": 0.4967,
          "xref": "x",
          "y0": 0.4967,
          "y1": 0.4967,
          "yref": "y"
         },
         {
          "layer": "below",
          "line": {
           "color": "#708090"
          },
          "type": "line",
          "x0": 0.4967,
          "x1": 0.4967,
          "xref": "x",
          "y0": 0,
          "y1": 0.4967,
          "yref": "y"
         },
         {
          "layer": "below",
          "line": {
           "color": "#708090"
          },
          "type": "line",
          "x0": 0,
          "x1": 0.3515,
          "xref": "x",
          "y0": 0.3515,
          "y1": 0.3515,
          "yref": "y"
         },
         {
          "layer": "below",
          "line": {
           "color": "#708090"
          },
          "type": "line",
          "x0": 0.3515,
          "x1": 0.3515,
          "xref": "x",
          "y0": 0,
          "y1": 0.3515,
          "yref": "y"
         },
         {
          "layer": "below",
          "line": {
           "color": "#708090"
          },
          "type": "line",
          "x0": 0,
          "x1": 0.24713,
          "xref": "x",
          "y0": 0.24713,
          "y1": 0.24713,
          "yref": "y"
         },
         {
          "layer": "below",
          "line": {
           "color": "#708090"
          },
          "type": "line",
          "x0": 0.24713,
          "x1": 0.24713,
          "xref": "x",
          "y0": 0,
          "y1": 0.24713,
          "yref": "y"
         },
         {
          "layer": "below",
          "line": {
           "color": "#708090"
          },
          "type": "line",
          "x0": 0,
          "x1": 0.1753,
          "xref": "x",
          "y0": 0.1753,
          "y1": 0.1753,
          "yref": "y"
         },
         {
          "layer": "below",
          "line": {
           "color": "#708090"
          },
          "type": "line",
          "x0": 0.1753,
          "x1": 0.1753,
          "xref": "x",
          "y0": 0,
          "y1": 0.1753,
          "yref": "y"
         },
         {
          "layer": "below",
          "line": {
           "color": "#708090"
          },
          "type": "line",
          "x0": 0,
          "x1": 0.1259,
          "xref": "x",
          "y0": 0.1259,
          "y1": 0.1259,
          "yref": "y"
         },
         {
          "layer": "below",
          "line": {
           "color": "#708090"
          },
          "type": "line",
          "x0": 0.1259,
          "x1": 0.1259,
          "xref": "x",
          "y0": 0,
          "y1": 0.1259,
          "yref": "y"
         },
         {
          "layer": "below",
          "line": {
           "color": "#708090"
          },
          "type": "line",
          "x0": 0,
          "x1": 0.089,
          "xref": "x",
          "y0": 0.089,
          "y1": 0.089,
          "yref": "y"
         },
         {
          "layer": "below",
          "line": {
           "color": "#708090"
          },
          "type": "line",
          "x0": 0.089,
          "x1": 0.089,
          "xref": "x",
          "y0": 0,
          "y1": 0.089,
          "yref": "y"
         }
        ],
        "template": {
         "data": {
          "bar": [
           {
            "error_x": {
             "color": "#2a3f5f"
            },
            "error_y": {
             "color": "#2a3f5f"
            },
            "marker": {
             "line": {
              "color": "#E5ECF6",
              "width": 0.5
             }
            },
            "type": "bar"
           }
          ],
          "barpolar": [
           {
            "marker": {
             "line": {
              "color": "#E5ECF6",
              "width": 0.5
             }
            },
            "type": "barpolar"
           }
          ],
          "carpet": [
           {
            "aaxis": {
             "endlinecolor": "#2a3f5f",
             "gridcolor": "white",
             "linecolor": "white",
             "minorgridcolor": "white",
             "startlinecolor": "#2a3f5f"
            },
            "baxis": {
             "endlinecolor": "#2a3f5f",
             "gridcolor": "white",
             "linecolor": "white",
             "minorgridcolor": "white",
             "startlinecolor": "#2a3f5f"
            },
            "type": "carpet"
           }
          ],
          "choropleth": [
           {
            "colorbar": {
             "outlinewidth": 0,
             "ticks": ""
            },
            "type": "choropleth"
           }
          ],
          "contour": [
           {
            "colorbar": {
             "outlinewidth": 0,
             "ticks": ""
            },
            "colorscale": [
             [
              0,
              "#0d0887"
             ],
             [
              0.1111111111111111,
              "#46039f"
             ],
             [
              0.2222222222222222,
              "#7201a8"
             ],
             [
              0.3333333333333333,
              "#9c179e"
             ],
             [
              0.4444444444444444,
              "#bd3786"
             ],
             [
              0.5555555555555556,
              "#d8576b"
             ],
             [
              0.6666666666666666,
              "#ed7953"
             ],
             [
              0.7777777777777778,
              "#fb9f3a"
             ],
             [
              0.8888888888888888,
              "#fdca26"
             ],
             [
              1,
              "#f0f921"
             ]
            ],
            "type": "contour"
           }
          ],
          "contourcarpet": [
           {
            "colorbar": {
             "outlinewidth": 0,
             "ticks": ""
            },
            "type": "contourcarpet"
           }
          ],
          "heatmap": [
           {
            "colorbar": {
             "outlinewidth": 0,
             "ticks": ""
            },
            "colorscale": [
             [
              0,
              "#0d0887"
             ],
             [
              0.1111111111111111,
              "#46039f"
             ],
             [
              0.2222222222222222,
              "#7201a8"
             ],
             [
              0.3333333333333333,
              "#9c179e"
             ],
             [
              0.4444444444444444,
              "#bd3786"
             ],
             [
              0.5555555555555556,
              "#d8576b"
             ],
             [
              0.6666666666666666,
              "#ed7953"
             ],
             [
              0.7777777777777778,
              "#fb9f3a"
             ],
             [
              0.8888888888888888,
              "#fdca26"
             ],
             [
              1,
              "#f0f921"
             ]
            ],
            "type": "heatmap"
           }
          ],
          "heatmapgl": [
           {
            "colorbar": {
             "outlinewidth": 0,
             "ticks": ""
            },
            "colorscale": [
             [
              0,
              "#0d0887"
             ],
             [
              0.1111111111111111,
              "#46039f"
             ],
             [
              0.2222222222222222,
              "#7201a8"
             ],
             [
              0.3333333333333333,
              "#9c179e"
             ],
             [
              0.4444444444444444,
              "#bd3786"
             ],
             [
              0.5555555555555556,
              "#d8576b"
             ],
             [
              0.6666666666666666,
              "#ed7953"
             ],
             [
              0.7777777777777778,
              "#fb9f3a"
             ],
             [
              0.8888888888888888,
              "#fdca26"
             ],
             [
              1,
              "#f0f921"
             ]
            ],
            "type": "heatmapgl"
           }
          ],
          "histogram": [
           {
            "marker": {
             "colorbar": {
              "outlinewidth": 0,
              "ticks": ""
             }
            },
            "type": "histogram"
           }
          ],
          "histogram2d": [
           {
            "colorbar": {
             "outlinewidth": 0,
             "ticks": ""
            },
            "colorscale": [
             [
              0,
              "#0d0887"
             ],
             [
              0.1111111111111111,
              "#46039f"
             ],
             [
              0.2222222222222222,
              "#7201a8"
             ],
             [
              0.3333333333333333,
              "#9c179e"
             ],
             [
              0.4444444444444444,
              "#bd3786"
             ],
             [
              0.5555555555555556,
              "#d8576b"
             ],
             [
              0.6666666666666666,
              "#ed7953"
             ],
             [
              0.7777777777777778,
              "#fb9f3a"
             ],
             [
              0.8888888888888888,
              "#fdca26"
             ],
             [
              1,
              "#f0f921"
             ]
            ],
            "type": "histogram2d"
           }
          ],
          "histogram2dcontour": [
           {
            "colorbar": {
             "outlinewidth": 0,
             "ticks": ""
            },
            "colorscale": [
             [
              0,
              "#0d0887"
             ],
             [
              0.1111111111111111,
              "#46039f"
             ],
             [
              0.2222222222222222,
              "#7201a8"
             ],
             [
              0.3333333333333333,
              "#9c179e"
             ],
             [
              0.4444444444444444,
              "#bd3786"
             ],
             [
              0.5555555555555556,
              "#d8576b"
             ],
             [
              0.6666666666666666,
              "#ed7953"
             ],
             [
              0.7777777777777778,
              "#fb9f3a"
             ],
             [
              0.8888888888888888,
              "#fdca26"
             ],
             [
              1,
              "#f0f921"
             ]
            ],
            "type": "histogram2dcontour"
           }
          ],
          "mesh3d": [
           {
            "colorbar": {
             "outlinewidth": 0,
             "ticks": ""
            },
            "type": "mesh3d"
           }
          ],
          "parcoords": [
           {
            "line": {
             "colorbar": {
              "outlinewidth": 0,
              "ticks": ""
             }
            },
            "type": "parcoords"
           }
          ],
          "pie": [
           {
            "automargin": true,
            "type": "pie"
           }
          ],
          "scatter": [
           {
            "marker": {
             "colorbar": {
              "outlinewidth": 0,
              "ticks": ""
             }
            },
            "type": "scatter"
           }
          ],
          "scatter3d": [
           {
            "line": {
             "colorbar": {
              "outlinewidth": 0,
              "ticks": ""
             }
            },
            "marker": {
             "colorbar": {
              "outlinewidth": 0,
              "ticks": ""
             }
            },
            "type": "scatter3d"
           }
          ],
          "scattercarpet": [
           {
            "marker": {
             "colorbar": {
              "outlinewidth": 0,
              "ticks": ""
             }
            },
            "type": "scattercarpet"
           }
          ],
          "scattergeo": [
           {
            "marker": {
             "colorbar": {
              "outlinewidth": 0,
              "ticks": ""
             }
            },
            "type": "scattergeo"
           }
          ],
          "scattergl": [
           {
            "marker": {
             "colorbar": {
              "outlinewidth": 0,
              "ticks": ""
             }
            },
            "type": "scattergl"
           }
          ],
          "scattermapbox": [
           {
            "marker": {
             "colorbar": {
              "outlinewidth": 0,
              "ticks": ""
             }
            },
            "type": "scattermapbox"
           }
          ],
          "scatterpolar": [
           {
            "marker": {
             "colorbar": {
              "outlinewidth": 0,
              "ticks": ""
             }
            },
            "type": "scatterpolar"
           }
          ],
          "scatterpolargl": [
           {
            "marker": {
             "colorbar": {
              "outlinewidth": 0,
              "ticks": ""
             }
            },
            "type": "scatterpolargl"
           }
          ],
          "scatterternary": [
           {
            "marker": {
             "colorbar": {
              "outlinewidth": 0,
              "ticks": ""
             }
            },
            "type": "scatterternary"
           }
          ],
          "surface": [
           {
            "colorbar": {
             "outlinewidth": 0,
             "ticks": ""
            },
            "colorscale": [
             [
              0,
              "#0d0887"
             ],
             [
              0.1111111111111111,
              "#46039f"
             ],
             [
              0.2222222222222222,
              "#7201a8"
             ],
             [
              0.3333333333333333,
              "#9c179e"
             ],
             [
              0.4444444444444444,
              "#bd3786"
             ],
             [
              0.5555555555555556,
              "#d8576b"
             ],
             [
              0.6666666666666666,
              "#ed7953"
             ],
             [
              0.7777777777777778,
              "#fb9f3a"
             ],
             [
              0.8888888888888888,
              "#fdca26"
             ],
             [
              1,
              "#f0f921"
             ]
            ],
            "type": "surface"
           }
          ],
          "table": [
           {
            "cells": {
             "fill": {
              "color": "#EBF0F8"
             },
             "line": {
              "color": "white"
             }
            },
            "header": {
             "fill": {
              "color": "#C8D4E3"
             },
             "line": {
              "color": "white"
             }
            },
            "type": "table"
           }
          ]
         },
         "layout": {
          "annotationdefaults": {
           "arrowcolor": "#2a3f5f",
           "arrowhead": 0,
           "arrowwidth": 1
          },
          "autotypenumbers": "strict",
          "coloraxis": {
           "colorbar": {
            "outlinewidth": 0,
            "ticks": ""
           }
          },
          "colorscale": {
           "diverging": [
            [
             0,
             "#8e0152"
            ],
            [
             0.1,
             "#c51b7d"
            ],
            [
             0.2,
             "#de77ae"
            ],
            [
             0.3,
             "#f1b6da"
            ],
            [
             0.4,
             "#fde0ef"
            ],
            [
             0.5,
             "#f7f7f7"
            ],
            [
             0.6,
             "#e6f5d0"
            ],
            [
             0.7,
             "#b8e186"
            ],
            [
             0.8,
             "#7fbc41"
            ],
            [
             0.9,
             "#4d9221"
            ],
            [
             1,
             "#276419"
            ]
           ],
           "sequential": [
            [
             0,
             "#0d0887"
            ],
            [
             0.1111111111111111,
             "#46039f"
            ],
            [
             0.2222222222222222,
             "#7201a8"
            ],
            [
             0.3333333333333333,
             "#9c179e"
            ],
            [
             0.4444444444444444,
             "#bd3786"
            ],
            [
             0.5555555555555556,
             "#d8576b"
            ],
            [
             0.6666666666666666,
             "#ed7953"
            ],
            [
             0.7777777777777778,
             "#fb9f3a"
            ],
            [
             0.8888888888888888,
             "#fdca26"
            ],
            [
             1,
             "#f0f921"
            ]
           ],
           "sequentialminus": [
            [
             0,
             "#0d0887"
            ],
            [
             0.1111111111111111,
             "#46039f"
            ],
            [
             0.2222222222222222,
             "#7201a8"
            ],
            [
             0.3333333333333333,
             "#9c179e"
            ],
            [
             0.4444444444444444,
             "#bd3786"
            ],
            [
             0.5555555555555556,
             "#d8576b"
            ],
            [
             0.6666666666666666,
             "#ed7953"
            ],
            [
             0.7777777777777778,
             "#fb9f3a"
            ],
            [
             0.8888888888888888,
             "#fdca26"
            ],
            [
             1,
             "#f0f921"
            ]
           ]
          },
          "colorway": [
           "#636efa",
           "#EF553B",
           "#00cc96",
           "#ab63fa",
           "#FFA15A",
           "#19d3f3",
           "#FF6692",
           "#B6E880",
           "#FF97FF",
           "#FECB52"
          ],
          "font": {
           "color": "#2a3f5f"
          },
          "geo": {
           "bgcolor": "white",
           "lakecolor": "white",
           "landcolor": "#E5ECF6",
           "showlakes": true,
           "showland": true,
           "subunitcolor": "white"
          },
          "hoverlabel": {
           "align": "left"
          },
          "hovermode": "closest",
          "mapbox": {
           "style": "light"
          },
          "paper_bgcolor": "white",
          "plot_bgcolor": "#E5ECF6",
          "polar": {
           "angularaxis": {
            "gridcolor": "white",
            "linecolor": "white",
            "ticks": ""
           },
           "bgcolor": "#E5ECF6",
           "radialaxis": {
            "gridcolor": "white",
            "linecolor": "white",
            "ticks": ""
           }
          },
          "scene": {
           "xaxis": {
            "backgroundcolor": "#E5ECF6",
            "gridcolor": "white",
            "gridwidth": 2,
            "linecolor": "white",
            "showbackground": true,
            "ticks": "",
            "zerolinecolor": "white"
           },
           "yaxis": {
            "backgroundcolor": "#E5ECF6",
            "gridcolor": "white",
            "gridwidth": 2,
            "linecolor": "white",
            "showbackground": true,
            "ticks": "",
            "zerolinecolor": "white"
           },
           "zaxis": {
            "backgroundcolor": "#E5ECF6",
            "gridcolor": "white",
            "gridwidth": 2,
            "linecolor": "white",
            "showbackground": true,
            "ticks": "",
            "zerolinecolor": "white"
           }
          },
          "shapedefaults": {
           "line": {
            "color": "#2a3f5f"
           }
          },
          "ternary": {
           "aaxis": {
            "gridcolor": "white",
            "linecolor": "white",
            "ticks": ""
           },
           "baxis": {
            "gridcolor": "white",
            "linecolor": "white",
            "ticks": ""
           },
           "bgcolor": "#E5ECF6",
           "caxis": {
            "gridcolor": "white",
            "linecolor": "white",
            "ticks": ""
           }
          },
          "title": {
           "x": 0.05
          },
          "xaxis": {
           "automargin": true,
           "gridcolor": "white",
           "linecolor": "white",
           "ticks": "",
           "title": {
            "standoff": 15
           },
           "zerolinecolor": "white",
           "zerolinewidth": 2
          },
          "yaxis": {
           "automargin": true,
           "gridcolor": "white",
           "linecolor": "white",
           "ticks": "",
           "title": {
            "standoff": 15
           },
           "zerolinecolor": "white",
           "zerolinewidth": 2
          }
         }
        },
        "title": {
         "font": {
          "color": "white"
         },
         "text": ""
        },
        "width": 950,
        "xaxis": {
         "gridcolor": "#708090",
         "linecolor": "white",
         "range": [
          0,
          2.1
         ],
         "showgrid": false,
         "showticklabels": true,
         "tickfont": {
          "color": "black"
         },
         "tickvals": [
          0.089,
          0.1259,
          0.1753,
          0.24713,
          0.3515,
          0.4967,
          0.706,
          0.9841,
          1.454,
          1.989
         ],
         "title": {
          "text": "Reference T1 (s)"
         }
        },
        "yaxis": {
         "gridcolor": "#708090",
         "linecolor": "white",
         "showgrid": false,
         "showticklabels": true,
         "tickfont": {
          "color": "black"
         },
         "tickmode": "array",
         "ticktext": [
          "R10",
          "R9",
          "R8",
          "R7",
          "R6",
          "R5",
          "R4",
          "R3",
          "R2",
          "R1"
         ],
         "tickvals": [
          1.989,
          1.454,
          0.9841,
          0.706,
          0.4967,
          0.3515,
          0.24713,
          0.1753,
          0.1259,
          0.089
         ]
        }
       }
      },
      "text/html": [
       "<div>                            <div id=\"2b33e440-d911-452c-9d13-12dcee556514\" class=\"plotly-graph-div\" style=\"height:800px; width:950px;\"></div>            <script type=\"text/javascript\">                require([\"plotly\"], function(Plotly) {                    window.PLOTLYENV=window.PLOTLYENV || {};                                    if (document.getElementById(\"2b33e440-d911-452c-9d13-12dcee556514\")) {                    Plotly.newPlot(                        \"2b33e440-d911-452c-9d13-12dcee556514\",                        [{\"line\": {\"color\": \"red\"}, \"marker\": {\"size\": 28, \"symbol\": \"diamond-wide\"}, \"mode\": \"markers\", \"name\": \"Reference\", \"type\": \"scatter\", \"x\": [1.989, 1.454, 0.9841, 0.706, 0.4967, 0.3515, 0.24713, 0.1753, 0.1259, 0.089], \"y\": [1.989, 1.454, 0.9841, 0.706, 0.4967, 0.3515, 0.24713, 0.1753, 0.1259, 0.089]}, {\"fill\": \"toself\", \"fillcolor\": \"rgba(255,220,0,0.2)\", \"legendgroup\": \"rthSKYrev\", \"line\": {\"color\": \"rgba(255,0,0,0)\"}, \"name\": \"VENUS<br><i>VE11</i>\", \"showlegend\": false, \"type\": \"scatter\", \"x\": [1.989, 1.454, 0.9841, 0.706, 0.4967, 0.3515, 0.24713, 0.1753, 0.1259, 0.089, 0.089, 0.1259, 0.1753, 0.24713, 0.3515, 0.4967, 0.706, 0.9841, 1.454, 1.989], \"y\": [2.071174, 1.461109, 1.030757, 0.7157729999999999, 0.484557, 0.3338403, 0.2590154, 0.214017, 0.1567784, 0.1054551, 0.0948049, 0.1409216, 0.19226300000000002, 0.23950459999999998, 0.3139997, 0.45654300000000003, 0.675507, 0.9708429999999999, 1.3806910000000001, 1.911426]}, {\"customdata\": [0.12, -2.28, 1.7, -1.47, -5.26, -7.85, 0.86, 15.88, 18.23, 12.51], \"hoverlabel\": {\"namelength\": -1}, \"hovertemplate\": \"<br>%{y},<b>\\u2206T1:</b>%{customdata}\", \"legendgroup\": \"rthSKYrev\", \"line\": {\"color\": \"orange\", \"dash\": \"dash\", \"width\": 3}, \"marker\": {\"color\": \"orange\", \"line\": {\"color\": \"black\", \"width\": 1.5}, \"opacity\": 0.85, \"size\": 20, \"symbol\": \"circle\"}, \"name\": \"VENUS<br><i>VE11</i>\", \"type\": \"scatter\", \"x\": [1.989, 1.454, 0.9841, 0.706, 0.4967, 0.3515, 0.24713, 0.1753, 0.1259, 0.089], \"y\": [1.9913, 1.4209, 1.0008, 0.6956399999999999, 0.47055, 0.32392, 0.24925999999999998, 0.20314000000000002, 0.14885, 0.10013]}, {\"fill\": \"toself\", \"fillcolor\": \"rgba(0,0,0,0.2)\", \"legendgroup\": \"rthSKYxa30_acq-test\", \"line\": {\"color\": \"rgba(255,0,0,0)\"}, \"name\": \"VENUS<br><i>XA30new</i>\", \"showlegend\": false, \"type\": \"scatter\", \"x\": [1.989, 1.454, 0.9841, 0.706, 0.4967, 0.3515, 0.24713, 0.1753, 0.1259, 0.089, 0.089, 0.1259, 0.1753, 0.24713, 0.3515, 0.4967, 0.706, 0.9841, 1.454, 1.989], \"y\": [1.737298, 1.218395, 0.8575670000000001, 0.604233, 0.406891, 0.278015, 0.21729500000000002, 0.1814228, 0.12845489999999998, 0.0894796, 0.0781224, 0.1188451, 0.1646572, 0.19648500000000002, 0.25160499999999997, 0.373969, 0.5613870000000001, 0.7986730000000001, 1.140605, 1.5999020000000002]}, {\"customdata\": [-16.11, -18.88, -15.85, -17.45, -21.4, -24.66, -16.28, -1.29, -1.79, -5.84], \"hoverlabel\": {\"namelength\": -1}, \"hovertemplate\": \"<br>%{y},<b>\\u2206T1:</b>%{customdata}\", \"legendgroup\": \"rthSKYxa30_acq-test\", \"line\": {\"color\": \"black\", \"dash\": \"dash\", \"width\": 3}, \"marker\": {\"color\": \"black\", \"line\": {\"color\": \"black\", \"width\": 1.5}, \"opacity\": 0.85, \"size\": 20, \"symbol\": \"arrow-bar-down\"}, \"name\": \"VENUS<br><i>XA30new</i>\", \"type\": \"scatter\", \"x\": [1.989, 1.454, 0.9841, 0.706, 0.4967, 0.3515, 0.24713, 0.1753, 0.1259, 0.089], \"y\": [1.6686, 1.1795, 0.8281200000000001, 0.58281, 0.39043, 0.26481, 0.20689000000000002, 0.17304, 0.12365, 0.083801]}, {\"fill\": \"toself\", \"fillcolor\": \"rgba(255,220,0,0.2)\", \"legendgroup\": \"rthSKYxa30_acq-manualrefv\", \"line\": {\"color\": \"rgba(255,0,0,0)\"}, \"name\": \"VENUS<br><i>XA30old</i>\", \"showlegend\": false, \"type\": \"scatter\", \"x\": [1.989, 1.454, 0.9841, 0.706, 0.4967, 0.3515, 0.24713, 0.1753, 0.1259, 0.089, 0.089, 0.1259, 0.1753, 0.24713, 0.3515, 0.4967, 0.706, 0.9841, 1.454, 1.989], \"y\": [2.024472, 1.420682, 1.036109, 0.7547659999999999, 0.529821, 0.373187, 0.2833689, 0.227507, 0.1591637, 0.1033766, 0.09301340000000001, 0.14429630000000002, 0.206213, 0.2646911, 0.350053, 0.495259, 0.691774, 0.957391, 1.3435180000000002, 1.870728]}, {\"customdata\": [-2.08, -4.94, 1.29, 2.45, 3.19, 2.88, 10.88, 23.71, 20.52, 10.33], \"hoverlabel\": {\"namelength\": -1}, \"hovertemplate\": \"<br>%{y},<b>\\u2206T1:</b>%{customdata}\", \"legendgroup\": \"rthSKYxa30_acq-manualrefv\", \"line\": {\"color\": \"orange\", \"dash\": \"dash\", \"width\": 3}, \"marker\": {\"color\": \"orange\", \"line\": {\"color\": \"black\", \"width\": 1.5}, \"opacity\": 0.85, \"size\": 20, \"symbol\": \"circle-x\"}, \"name\": \"VENUS<br><i>XA30old</i>\", \"type\": \"scatter\", \"x\": [1.989, 1.454, 0.9841, 0.706, 0.4967, 0.3515, 0.24713, 0.1753, 0.1259, 0.089], \"y\": [1.9476, 1.3821, 0.99675, 0.72327, 0.51254, 0.36162, 0.27403, 0.21686, 0.15173, 0.098195]}, {\"fill\": \"toself\", \"fillcolor\": \"rgba(0,248,205,0.2)\", \"legendgroup\": \"vendorSKYrev\", \"line\": {\"color\": \"rgba(255,0,0,0)\"}, \"name\": \"NATIVE<br><i>VE11</i>\", \"showlegend\": false, \"type\": \"scatter\", \"x\": [1.989, 1.454, 0.9841, 0.706, 0.4967, 0.3515, 0.24713, 0.1753, 0.1259, 0.089, 0.089, 0.1259, 0.1753, 0.24713, 0.3515, 0.4967, 0.706, 0.9841, 1.454, 1.989], \"y\": [2.235038, 1.587559, 1.106639, 0.757887, 0.507059, 0.344612, 0.25378999999999996, 0.2085991, 0.14532969999999998, 0.0978096, 0.08772440000000001, 0.1333903, 0.1888409, 0.23324999999999999, 0.317888, 0.473841, 0.710953, 1.031161, 1.506241, 2.098162]}, {\"customdata\": [8.93, 6.39, 8.62, 4.03, -1.26, -5.76, -1.46, 13.36, 10.69, 4.23], \"hoverlabel\": {\"namelength\": -1}, \"hovertemplate\": \"<br>%{y},<b>\\u2206T1:</b>%{customdata}\", \"legendgroup\": \"vendorSKYrev\", \"line\": {\"color\": \"rgba(0,200,205,1)\", \"dash\": \"solid\", \"width\": 3}, \"marker\": {\"color\": \"rgba(0,200,205,1)\", \"line\": {\"color\": \"black\", \"width\": 1.5}, \"opacity\": 0.85, \"size\": 20, \"symbol\": \"square\"}, \"name\": \"NATIVE<br><i>VE11</i>\", \"type\": \"scatter\", \"x\": [1.989, 1.454, 0.9841, 0.706, 0.4967, 0.3515, 0.24713, 0.1753, 0.1259, 0.089], \"y\": [2.1666, 1.5469, 1.0689, 0.73442, 0.49045, 0.33125, 0.24352, 0.19872, 0.13935999999999998, 0.092767]}, {\"fill\": \"toself\", \"fillcolor\": \"rgba(0,0,0,0.2)\", \"legendgroup\": \"vendorSKYxa30_acq-test\", \"line\": {\"color\": \"rgba(255,0,0,0)\"}, \"name\": \"NATIVE<br><i>XA30new</i>\", \"showlegend\": false, \"type\": \"scatter\", \"x\": [1.989, 1.454, 0.9841, 0.706, 0.4967, 0.3515, 0.24713, 0.1753, 0.1259, 0.089, 0.089, 0.1259, 0.1753, 0.24713, 0.3515, 0.4967, 0.706, 0.9841, 1.454, 1.989], \"y\": [1.8199159999999999, 1.285268, 0.9059950000000001, 0.615401, 0.428539, 0.289092, 0.2119558, 0.1687503, 0.12352469999999999, 0.0845815, 0.06966649999999999, 0.1078353, 0.15476969999999998, 0.19942420000000002, 0.267328, 0.395161, 0.586159, 0.8606450000000001, 1.210132, 1.701084]}, {\"customdata\": [-11.49, -14.19, -10.24, -14.9, -17.08, -20.85, -16.77, -7.72, -8.12, -13.34], \"hoverlabel\": {\"namelength\": -1}, \"hovertemplate\": \"<br>%{y},<b>\\u2206T1:</b>%{customdata}\", \"legendgroup\": \"vendorSKYxa30_acq-test\", \"line\": {\"color\": \"black\", \"dash\": \"solid\", \"width\": 3}, \"marker\": {\"color\": \"black\", \"line\": {\"color\": \"black\", \"width\": 1.5}, \"opacity\": 0.85, \"size\": 20, \"symbol\": \"arrow-bar-down\"}, \"name\": \"NATIVE<br><i>XA30new</i>\", \"type\": \"scatter\", \"x\": [1.989, 1.454, 0.9841, 0.706, 0.4967, 0.3515, 0.24713, 0.1753, 0.1259, 0.089], \"y\": [1.7605, 1.2477, 0.8833200000000001, 0.60078, 0.41185, 0.27821, 0.20569, 0.16176, 0.11567999999999999, 0.077124]}, {\"fill\": \"toself\", \"fillcolor\": \"rgba(0,248,205,0.2)\", \"legendgroup\": \"vendorSKYxa30_acq-manualrefv\", \"line\": {\"color\": \"rgba(255,0,0,0)\"}, \"name\": \"NATIVE<br><i>XA30old</i>\", \"showlegend\": false, \"type\": \"scatter\", \"x\": [1.989, 1.454, 0.9841, 0.706, 0.4967, 0.3515, 0.24713, 0.1753, 0.1259, 0.089, 0.089, 0.1259, 0.1753, 0.24713, 0.3515, 0.4967, 0.706, 0.9841, 1.454, 1.989], \"y\": [2.172091, 1.546392, 1.129711, 0.816014, 0.5741710000000001, 0.400197, 0.289169, 0.228691, 0.153499, 0.1001135, 0.0866345, 0.13832099999999997, 0.208029, 0.267551, 0.366263, 0.5342490000000001, 0.759746, 1.053489, 1.4630079999999999, 2.0491089999999996]}, {\"customdata\": [6.11, 3.49, 10.92, 11.6, 11.58, 9.03, 12.64, 24.56, 15.89, 4.91], \"hoverlabel\": {\"namelength\": -1}, \"hovertemplate\": \"<br>%{y},<b>\\u2206T1:</b>%{customdata}\", \"legendgroup\": \"vendorSKYxa30_acq-manualrefv\", \"line\": {\"color\": \"rgba(0,200,205,1)\", \"dash\": \"solid\", \"width\": 3}, \"marker\": {\"color\": \"rgba(0,200,205,1)\", \"line\": {\"color\": \"black\", \"width\": 1.5}, \"opacity\": 0.85, \"size\": 20, \"symbol\": \"square-x\"}, \"name\": \"NATIVE<br><i>XA30old</i>\", \"type\": \"scatter\", \"x\": [1.989, 1.454, 0.9841, 0.706, 0.4967, 0.3515, 0.24713, 0.1753, 0.1259, 0.089], \"y\": [2.1106, 1.5047, 1.0916, 0.78788, 0.5542100000000001, 0.38323, 0.27836, 0.21836, 0.14590999999999998, 0.093374]}],                        {\"height\": 800, \"hovermode\": \"x\", \"legend\": {\"font\": {\"color\": \"black\", \"size\": 14}, \"tracegroupgap\": 20, \"x\": 1, \"y\": 1}, \"margin\": {\"b\": 0, \"l\": 0, \"r\": 0, \"t\": 0}, \"shapes\": [{\"layer\": \"below\", \"line\": {\"color\": \"#708090\"}, \"type\": \"line\", \"x0\": 0, \"x1\": 1.989, \"xref\": \"x\", \"y0\": 1.989, \"y1\": 1.989, \"yref\": \"y\"}, {\"layer\": \"below\", \"line\": {\"color\": \"#708090\"}, \"type\": \"line\", \"x0\": 1.989, \"x1\": 1.989, \"xref\": \"x\", \"y0\": 0, \"y1\": 1.989, \"yref\": \"y\"}, {\"layer\": \"below\", \"line\": {\"color\": \"#708090\"}, \"type\": \"line\", \"x0\": 0, \"x1\": 1.454, \"xref\": \"x\", \"y0\": 1.454, \"y1\": 1.454, \"yref\": \"y\"}, {\"layer\": \"below\", \"line\": {\"color\": \"#708090\"}, \"type\": \"line\", \"x0\": 1.454, \"x1\": 1.454, \"xref\": \"x\", \"y0\": 0, \"y1\": 1.454, \"yref\": \"y\"}, {\"layer\": \"below\", \"line\": {\"color\": \"#708090\"}, \"type\": \"line\", \"x0\": 0, \"x1\": 0.9841, \"xref\": \"x\", \"y0\": 0.9841, \"y1\": 0.9841, \"yref\": \"y\"}, {\"layer\": \"below\", \"line\": {\"color\": \"#708090\"}, \"type\": \"line\", \"x0\": 0.9841, \"x1\": 0.9841, \"xref\": \"x\", \"y0\": 0, \"y1\": 0.9841, \"yref\": \"y\"}, {\"layer\": \"below\", \"line\": {\"color\": \"#708090\"}, \"type\": \"line\", \"x0\": 0, \"x1\": 0.706, \"xref\": \"x\", \"y0\": 0.706, \"y1\": 0.706, \"yref\": \"y\"}, {\"layer\": \"below\", \"line\": {\"color\": \"#708090\"}, \"type\": \"line\", \"x0\": 0.706, \"x1\": 0.706, \"xref\": \"x\", \"y0\": 0, \"y1\": 0.706, \"yref\": \"y\"}, {\"layer\": \"below\", \"line\": {\"color\": \"#708090\"}, \"type\": \"line\", \"x0\": 0, \"x1\": 0.4967, \"xref\": \"x\", \"y0\": 0.4967, \"y1\": 0.4967, \"yref\": \"y\"}, {\"layer\": \"below\", \"line\": {\"color\": \"#708090\"}, \"type\": \"line\", \"x0\": 0.4967, \"x1\": 0.4967, \"xref\": \"x\", \"y0\": 0, \"y1\": 0.4967, \"yref\": \"y\"}, {\"layer\": \"below\", \"line\": {\"color\": \"#708090\"}, \"type\": \"line\", \"x0\": 0, \"x1\": 0.3515, \"xref\": \"x\", \"y0\": 0.3515, \"y1\": 0.3515, \"yref\": \"y\"}, {\"layer\": \"below\", \"line\": {\"color\": \"#708090\"}, \"type\": \"line\", \"x0\": 0.3515, \"x1\": 0.3515, \"xref\": \"x\", \"y0\": 0, \"y1\": 0.3515, \"yref\": \"y\"}, {\"layer\": \"below\", \"line\": {\"color\": \"#708090\"}, \"type\": \"line\", \"x0\": 0, \"x1\": 0.24713, \"xref\": \"x\", \"y0\": 0.24713, \"y1\": 0.24713, \"yref\": \"y\"}, {\"layer\": \"below\", \"line\": {\"color\": \"#708090\"}, \"type\": \"line\", \"x0\": 0.24713, \"x1\": 0.24713, \"xref\": \"x\", \"y0\": 0, \"y1\": 0.24713, \"yref\": \"y\"}, {\"layer\": \"below\", \"line\": {\"color\": \"#708090\"}, \"type\": \"line\", \"x0\": 0, \"x1\": 0.1753, \"xref\": \"x\", \"y0\": 0.1753, \"y1\": 0.1753, \"yref\": \"y\"}, {\"layer\": \"below\", \"line\": {\"color\": \"#708090\"}, \"type\": \"line\", \"x0\": 0.1753, \"x1\": 0.1753, \"xref\": \"x\", \"y0\": 0, \"y1\": 0.1753, \"yref\": \"y\"}, {\"layer\": \"below\", \"line\": {\"color\": \"#708090\"}, \"type\": \"line\", \"x0\": 0, \"x1\": 0.1259, \"xref\": \"x\", \"y0\": 0.1259, \"y1\": 0.1259, \"yref\": \"y\"}, {\"layer\": \"below\", \"line\": {\"color\": \"#708090\"}, \"type\": \"line\", \"x0\": 0.1259, \"x1\": 0.1259, \"xref\": \"x\", \"y0\": 0, \"y1\": 0.1259, \"yref\": \"y\"}, {\"layer\": \"below\", \"line\": {\"color\": \"#708090\"}, \"type\": \"line\", \"x0\": 0, \"x1\": 0.089, \"xref\": \"x\", \"y0\": 0.089, \"y1\": 0.089, \"yref\": \"y\"}, {\"layer\": \"below\", \"line\": {\"color\": \"#708090\"}, \"type\": \"line\", \"x0\": 0.089, \"x1\": 0.089, \"xref\": \"x\", \"y0\": 0, \"y1\": 0.089, \"yref\": \"y\"}], \"template\": {\"data\": {\"bar\": [{\"error_x\": {\"color\": \"#2a3f5f\"}, \"error_y\": {\"color\": \"#2a3f5f\"}, \"marker\": {\"line\": {\"color\": \"#E5ECF6\", \"width\": 0.5}}, \"type\": \"bar\"}], \"barpolar\": [{\"marker\": {\"line\": {\"color\": \"#E5ECF6\", \"width\": 0.5}}, \"type\": \"barpolar\"}], \"carpet\": [{\"aaxis\": {\"endlinecolor\": \"#2a3f5f\", \"gridcolor\": \"white\", \"linecolor\": \"white\", \"minorgridcolor\": \"white\", \"startlinecolor\": \"#2a3f5f\"}, \"baxis\": {\"endlinecolor\": \"#2a3f5f\", \"gridcolor\": \"white\", \"linecolor\": \"white\", \"minorgridcolor\": \"white\", \"startlinecolor\": \"#2a3f5f\"}, \"type\": \"carpet\"}], \"choropleth\": [{\"colorbar\": {\"outlinewidth\": 0, \"ticks\": \"\"}, \"type\": \"choropleth\"}], \"contour\": [{\"colorbar\": {\"outlinewidth\": 0, \"ticks\": \"\"}, \"colorscale\": [[0.0, \"#0d0887\"], [0.1111111111111111, \"#46039f\"], [0.2222222222222222, \"#7201a8\"], [0.3333333333333333, \"#9c179e\"], [0.4444444444444444, \"#bd3786\"], [0.5555555555555556, \"#d8576b\"], [0.6666666666666666, \"#ed7953\"], [0.7777777777777778, \"#fb9f3a\"], [0.8888888888888888, \"#fdca26\"], [1.0, \"#f0f921\"]], \"type\": \"contour\"}], \"contourcarpet\": [{\"colorbar\": {\"outlinewidth\": 0, \"ticks\": \"\"}, \"type\": \"contourcarpet\"}], \"heatmap\": [{\"colorbar\": {\"outlinewidth\": 0, \"ticks\": \"\"}, \"colorscale\": [[0.0, \"#0d0887\"], [0.1111111111111111, \"#46039f\"], [0.2222222222222222, \"#7201a8\"], [0.3333333333333333, \"#9c179e\"], [0.4444444444444444, \"#bd3786\"], [0.5555555555555556, \"#d8576b\"], [0.6666666666666666, \"#ed7953\"], [0.7777777777777778, \"#fb9f3a\"], [0.8888888888888888, \"#fdca26\"], [1.0, \"#f0f921\"]], \"type\": \"heatmap\"}], \"heatmapgl\": [{\"colorbar\": {\"outlinewidth\": 0, \"ticks\": \"\"}, \"colorscale\": [[0.0, \"#0d0887\"], [0.1111111111111111, \"#46039f\"], [0.2222222222222222, \"#7201a8\"], [0.3333333333333333, \"#9c179e\"], [0.4444444444444444, \"#bd3786\"], [0.5555555555555556, \"#d8576b\"], [0.6666666666666666, \"#ed7953\"], [0.7777777777777778, \"#fb9f3a\"], [0.8888888888888888, \"#fdca26\"], [1.0, \"#f0f921\"]], \"type\": \"heatmapgl\"}], \"histogram\": [{\"marker\": {\"colorbar\": {\"outlinewidth\": 0, \"ticks\": \"\"}}, \"type\": \"histogram\"}], \"histogram2d\": [{\"colorbar\": {\"outlinewidth\": 0, \"ticks\": \"\"}, \"colorscale\": [[0.0, \"#0d0887\"], [0.1111111111111111, \"#46039f\"], [0.2222222222222222, \"#7201a8\"], [0.3333333333333333, \"#9c179e\"], [0.4444444444444444, \"#bd3786\"], [0.5555555555555556, \"#d8576b\"], [0.6666666666666666, \"#ed7953\"], [0.7777777777777778, \"#fb9f3a\"], [0.8888888888888888, \"#fdca26\"], [1.0, \"#f0f921\"]], \"type\": \"histogram2d\"}], \"histogram2dcontour\": [{\"colorbar\": {\"outlinewidth\": 0, \"ticks\": \"\"}, \"colorscale\": [[0.0, \"#0d0887\"], [0.1111111111111111, \"#46039f\"], [0.2222222222222222, \"#7201a8\"], [0.3333333333333333, \"#9c179e\"], [0.4444444444444444, \"#bd3786\"], [0.5555555555555556, \"#d8576b\"], [0.6666666666666666, \"#ed7953\"], [0.7777777777777778, \"#fb9f3a\"], [0.8888888888888888, \"#fdca26\"], [1.0, \"#f0f921\"]], \"type\": \"histogram2dcontour\"}], \"mesh3d\": [{\"colorbar\": {\"outlinewidth\": 0, \"ticks\": \"\"}, \"type\": \"mesh3d\"}], \"parcoords\": [{\"line\": {\"colorbar\": {\"outlinewidth\": 0, \"ticks\": \"\"}}, \"type\": \"parcoords\"}], \"pie\": [{\"automargin\": true, \"type\": \"pie\"}], \"scatter\": [{\"marker\": {\"colorbar\": {\"outlinewidth\": 0, \"ticks\": \"\"}}, \"type\": \"scatter\"}], \"scatter3d\": [{\"line\": {\"colorbar\": {\"outlinewidth\": 0, \"ticks\": \"\"}}, \"marker\": {\"colorbar\": {\"outlinewidth\": 0, \"ticks\": \"\"}}, \"type\": \"scatter3d\"}], \"scattercarpet\": [{\"marker\": {\"colorbar\": {\"outlinewidth\": 0, \"ticks\": \"\"}}, \"type\": \"scattercarpet\"}], \"scattergeo\": [{\"marker\": {\"colorbar\": {\"outlinewidth\": 0, \"ticks\": \"\"}}, \"type\": \"scattergeo\"}], \"scattergl\": [{\"marker\": {\"colorbar\": {\"outlinewidth\": 0, \"ticks\": \"\"}}, \"type\": \"scattergl\"}], \"scattermapbox\": [{\"marker\": {\"colorbar\": {\"outlinewidth\": 0, \"ticks\": \"\"}}, \"type\": \"scattermapbox\"}], \"scatterpolar\": [{\"marker\": {\"colorbar\": {\"outlinewidth\": 0, \"ticks\": \"\"}}, \"type\": \"scatterpolar\"}], \"scatterpolargl\": [{\"marker\": {\"colorbar\": {\"outlinewidth\": 0, \"ticks\": \"\"}}, \"type\": \"scatterpolargl\"}], \"scatterternary\": [{\"marker\": {\"colorbar\": {\"outlinewidth\": 0, \"ticks\": \"\"}}, \"type\": \"scatterternary\"}], \"surface\": [{\"colorbar\": {\"outlinewidth\": 0, \"ticks\": \"\"}, \"colorscale\": [[0.0, \"#0d0887\"], [0.1111111111111111, \"#46039f\"], [0.2222222222222222, \"#7201a8\"], [0.3333333333333333, \"#9c179e\"], [0.4444444444444444, \"#bd3786\"], [0.5555555555555556, \"#d8576b\"], [0.6666666666666666, \"#ed7953\"], [0.7777777777777778, \"#fb9f3a\"], [0.8888888888888888, \"#fdca26\"], [1.0, \"#f0f921\"]], \"type\": \"surface\"}], \"table\": [{\"cells\": {\"fill\": {\"color\": \"#EBF0F8\"}, \"line\": {\"color\": \"white\"}}, \"header\": {\"fill\": {\"color\": \"#C8D4E3\"}, \"line\": {\"color\": \"white\"}}, \"type\": \"table\"}]}, \"layout\": {\"annotationdefaults\": {\"arrowcolor\": \"#2a3f5f\", \"arrowhead\": 0, \"arrowwidth\": 1}, \"autotypenumbers\": \"strict\", \"coloraxis\": {\"colorbar\": {\"outlinewidth\": 0, \"ticks\": \"\"}}, \"colorscale\": {\"diverging\": [[0, \"#8e0152\"], [0.1, \"#c51b7d\"], [0.2, \"#de77ae\"], [0.3, \"#f1b6da\"], [0.4, \"#fde0ef\"], [0.5, \"#f7f7f7\"], [0.6, \"#e6f5d0\"], [0.7, \"#b8e186\"], [0.8, \"#7fbc41\"], [0.9, \"#4d9221\"], [1, \"#276419\"]], \"sequential\": [[0.0, \"#0d0887\"], [0.1111111111111111, \"#46039f\"], [0.2222222222222222, \"#7201a8\"], [0.3333333333333333, \"#9c179e\"], [0.4444444444444444, \"#bd3786\"], [0.5555555555555556, \"#d8576b\"], [0.6666666666666666, \"#ed7953\"], [0.7777777777777778, \"#fb9f3a\"], [0.8888888888888888, \"#fdca26\"], [1.0, \"#f0f921\"]], \"sequentialminus\": [[0.0, \"#0d0887\"], [0.1111111111111111, \"#46039f\"], [0.2222222222222222, \"#7201a8\"], [0.3333333333333333, \"#9c179e\"], [0.4444444444444444, \"#bd3786\"], [0.5555555555555556, \"#d8576b\"], [0.6666666666666666, \"#ed7953\"], [0.7777777777777778, \"#fb9f3a\"], [0.8888888888888888, \"#fdca26\"], [1.0, \"#f0f921\"]]}, \"colorway\": [\"#636efa\", \"#EF553B\", \"#00cc96\", \"#ab63fa\", \"#FFA15A\", \"#19d3f3\", \"#FF6692\", \"#B6E880\", \"#FF97FF\", \"#FECB52\"], \"font\": {\"color\": \"#2a3f5f\"}, \"geo\": {\"bgcolor\": \"white\", \"lakecolor\": \"white\", \"landcolor\": \"#E5ECF6\", \"showlakes\": true, \"showland\": true, \"subunitcolor\": \"white\"}, \"hoverlabel\": {\"align\": \"left\"}, \"hovermode\": \"closest\", \"mapbox\": {\"style\": \"light\"}, \"paper_bgcolor\": \"white\", \"plot_bgcolor\": \"#E5ECF6\", \"polar\": {\"angularaxis\": {\"gridcolor\": \"white\", \"linecolor\": \"white\", \"ticks\": \"\"}, \"bgcolor\": \"#E5ECF6\", \"radialaxis\": {\"gridcolor\": \"white\", \"linecolor\": \"white\", \"ticks\": \"\"}}, \"scene\": {\"xaxis\": {\"backgroundcolor\": \"#E5ECF6\", \"gridcolor\": \"white\", \"gridwidth\": 2, \"linecolor\": \"white\", \"showbackground\": true, \"ticks\": \"\", \"zerolinecolor\": \"white\"}, \"yaxis\": {\"backgroundcolor\": \"#E5ECF6\", \"gridcolor\": \"white\", \"gridwidth\": 2, \"linecolor\": \"white\", \"showbackground\": true, \"ticks\": \"\", \"zerolinecolor\": \"white\"}, \"zaxis\": {\"backgroundcolor\": \"#E5ECF6\", \"gridcolor\": \"white\", \"gridwidth\": 2, \"linecolor\": \"white\", \"showbackground\": true, \"ticks\": \"\", \"zerolinecolor\": \"white\"}}, \"shapedefaults\": {\"line\": {\"color\": \"#2a3f5f\"}}, \"ternary\": {\"aaxis\": {\"gridcolor\": \"white\", \"linecolor\": \"white\", \"ticks\": \"\"}, \"baxis\": {\"gridcolor\": \"white\", \"linecolor\": \"white\", \"ticks\": \"\"}, \"bgcolor\": \"#E5ECF6\", \"caxis\": {\"gridcolor\": \"white\", \"linecolor\": \"white\", \"ticks\": \"\"}}, \"title\": {\"x\": 0.05}, \"xaxis\": {\"automargin\": true, \"gridcolor\": \"white\", \"linecolor\": \"white\", \"ticks\": \"\", \"title\": {\"standoff\": 15}, \"zerolinecolor\": \"white\", \"zerolinewidth\": 2}, \"yaxis\": {\"automargin\": true, \"gridcolor\": \"white\", \"linecolor\": \"white\", \"ticks\": \"\", \"title\": {\"standoff\": 15}, \"zerolinecolor\": \"white\", \"zerolinewidth\": 2}}}, \"title\": {\"font\": {\"color\": \"white\"}, \"text\": \"\"}, \"width\": 950, \"xaxis\": {\"gridcolor\": \"#708090\", \"linecolor\": \"white\", \"range\": [0, 2.1], \"showgrid\": false, \"showticklabels\": true, \"tickfont\": {\"color\": \"black\"}, \"tickvals\": [0.089, 0.1259, 0.1753, 0.24713, 0.3515, 0.4967, 0.706, 0.9841, 1.454, 1.989], \"title\": {\"text\": \"Reference T1 (s)\"}}, \"yaxis\": {\"gridcolor\": \"#708090\", \"linecolor\": \"white\", \"showgrid\": false, \"showticklabels\": true, \"tickfont\": {\"color\": \"black\"}, \"tickmode\": \"array\", \"ticktext\": [\"R10\", \"R9\", \"R8\", \"R7\", \"R6\", \"R5\", \"R4\", \"R3\", \"R2\", \"R1\"], \"tickvals\": [1.989, 1.454, 0.9841, 0.706, 0.4967, 0.3515, 0.24713, 0.1753, 0.1259, 0.089]}},                        {\"responsive\": true}                    ).then(function(){\n",
       "                            \n",
       "var gd = document.getElementById('2b33e440-d911-452c-9d13-12dcee556514');\n",
       "var x = new MutationObserver(function (mutations, observer) {{\n",
       "        var display = window.getComputedStyle(gd).display;\n",
       "        if (!display || display === 'none') {{\n",
       "            console.log([gd, 'removed!']);\n",
       "            Plotly.purge(gd);\n",
       "            observer.disconnect();\n",
       "        }}\n",
       "}});\n",
       "\n",
       "// Listen for the removal of the full notebook cells\n",
       "var notebookContainer = gd.closest('#notebook-container');\n",
       "if (notebookContainer) {{\n",
       "    x.observe(notebookContainer, {childList: true});\n",
       "}}\n",
       "\n",
       "// Listen for the clearing of the current output cell\n",
       "var outputEl = gd.closest('.output');\n",
       "if (outputEl) {{\n",
       "    x.observe(outputEl, {childList: true});\n",
       "}}\n",
       "\n",
       "                        })                };                });            </script>        </div>"
      ]
     },
     "metadata": {},
     "output_type": "display_data"
    }
   ],
   "source": [
    "def plotrefline(fig, inp): \n",
    "    fig.add_shape(type='line',\n",
    "                    layer='below',  \n",
    "                    x0=0,\n",
    "                    y0=inp,\n",
    "                    x1=inp,\n",
    "                    y1=inp,\n",
    "                    line=dict(color='#708090'),\n",
    "                    xref='x',\n",
    "                    yref='y')\n",
    "    fig.add_shape(type='line',\n",
    "                    layer='below',  \n",
    "                    x0=inp,\n",
    "                    y0=0,\n",
    "                    x1=inp,\n",
    "                    y1=inp,\n",
    "                    line=dict(color='#708090'),\n",
    "                    xref='x',\n",
    "                    yref='y')\n",
    "    return fig\n",
    "    \n",
    "\n",
    "fig = go.Figure()\n",
    "for ii in refMean:    \n",
    "    fig = plotrefline(fig,ii)\n",
    "    \n",
    "fig.add_trace(go.Scatter(\n",
    "    x=refMean, y=refMean,\n",
    "    line_color='red',\n",
    "    mode = 'markers',\n",
    "    name = 'Reference',\n",
    "    marker = dict(size=28,symbol='diamond-wide')\n",
    "\n",
    "))\n",
    "for jj in range(0,len(sessions),1):\n",
    "    avg_array  = []\n",
    "    std_array  =  []\n",
    "    cur_tag = sessions[jj]\n",
    "    cur_csv = pd.read_csv(derivativesDir + '/sub-phantom/' + 'ses-' + sessions[jj].partition('_')[0] + '/stat/sub-phantom_ses-' + sessions[jj] + '_stat_summary.csv')\n",
    "    avg_array = np.array(cur_csv['T1 (mean)'])\n",
    "    std_array = np.array(cur_csv['T1 (std)'])\n",
    "    upper = list(np.squeeze(np.array(avg_array)) + np.squeeze(np.array(std_array)))\n",
    "    lower = list(np.squeeze(np.array(avg_array)) - np.squeeze(np.array(std_array)))\n",
    "    # Add std lines\n",
    "    fig.add_trace(go.Scatter(\n",
    "        x= refMean + refMean[::-1],\n",
    "        y=upper+lower[::-1],\n",
    "        fill='toself',\n",
    "        fillcolor= colors_line[cur_tag],\n",
    "        line_color='rgba(255,0,0,0)',\n",
    "        name= convert_tag[cur_tag],\n",
    "        showlegend = False,\n",
    "        legendgroup = cur_tag\n",
    "    ))\n",
    "    # Add markers\n",
    "    fig.add_trace(go.Scatter(\n",
    "        x=refMean, y=avg_array,\n",
    "        line_color=colors2[cur_tag],\n",
    "        name= convert_tag[cur_tag],\n",
    "        marker = dict(size=20,symbol=line_sym[cur_tag],line=dict(color='black',width=1.5),opacity=0.85, color=colors2[cur_tag]),\n",
    "        line=dict(width=3, dash=line_dash[cur_tag]),\n",
    "        legendgroup = cur_tag,\n",
    "        customdata= np.round(((np.array(avg_array) - np.array(refMean))/np.array(refMean))*100,2),\n",
    "        hovertemplate='<br>%{y},<b>∆T1:</b>%{customdata}',\n",
    "        hoverlabel = dict(namelength = -1)\n",
    "    ))\n",
    "\n",
    "fig.update_layout(height=800, width=950)\n",
    "fig.update_layout(legend=dict(x=1, y=1,tracegroupgap=20,font=dict(color=\"black\",size=14)))\n",
    "axis_template = dict(linecolor = 'white', \n",
    "                     showticklabels = True,\n",
    "                     showgrid=False,\n",
    "                     tickfont=dict(color=\"black\"), \n",
    "                     gridcolor = '#708090',\n",
    "                     tickvals = refMean[::-1])\n",
    "fig.update_xaxes(axis_template,range=[0,2.1], title = \"Reference T1 (s)\")\n",
    "\n",
    "fig.update_yaxes(axis_template,tickmode=\"array\",tickvals=refMean,ticktext=[\"R10\",\"R9\",\"R8\",\"R7\",\"R6\",\"R5\",\"R4\",\"R3\",\"R2\",\"R1\"])\n",
    "fig.update_layout(title='',title_font_color=\"white\",margin=dict(l=0,r=0,t=0,b=0))\n",
    "fig.update_layout(hovermode = \"x\")\n",
    "\n",
    "\n",
    "\n",
    "fig"
   ]
  },
  {
   "cell_type": "markdown",
   "metadata": {},
   "source": [
    "### Percent measurement errors (`∆T1`)\n",
    "\n",
    "`````{admonition} Note\n",
    ":class: tip\n",
    "Reproduces Figure 4c from the [article](https://www.biorxiv.org/content/10.1101/2021.12.27.474259v2).\n",
    "`````\n",
    "\n",
    "> For VENUS, ∆T1 remains low for the physiologically relevant range (0.7 to 2s), whereas deviations reach up to 30.4% for vendor-native measurements."
   ]
  },
  {
   "cell_type": "code",
   "execution_count": 32,
   "metadata": {
    "tags": [
     "hide-input"
    ]
   },
   "outputs": [
    {
     "data": {
      "application/vnd.plotly.v1+json": {
       "config": {
        "plotlyServerURL": "https://plot.ly"
       },
       "data": [
        {
         "legendgroup": "rthSKYrev",
         "line": {
          "color": "orange",
          "dash": "dash",
          "shape": "vhv",
          "width": 2
         },
         "marker": {
          "line": {
           "color": "black",
           "width": 1.5
          },
          "opacity": 0.75,
          "size": 20,
          "symbol": "circle"
         },
         "name": "VENUS<br><i>VE11</i>",
         "type": "scatter",
         "x": [
          1,
          2,
          3,
          4,
          5,
          6,
          7,
          8,
          9,
          10
         ],
         "y": [
          0.11563599798893759,
          -2.276478679504808,
          1.6969820140229588,
          -1.4674220963172855,
          -5.26474733239379,
          -7.84637268847795,
          0.861894549427424,
          15.881346263548204,
          18.228752978554404,
          12.505617977528091
         ]
        },
        {
         "legendgroup": "rthSKYxa30_acq-test",
         "line": {
          "color": "black",
          "dash": "dash",
          "shape": "vhv",
          "width": 2
         },
         "marker": {
          "line": {
           "color": "black",
           "width": 1.5
          },
          "opacity": 0.75,
          "size": 20,
          "symbol": "arrow-bar-down"
         },
         "name": "VENUS<br><i>XA30new</i>",
         "type": "scatter",
         "x": [
          1,
          2,
          3,
          4,
          5,
          6,
          7,
          8,
          9,
          10
         ],
         "y": [
          -16.108597285067873,
          -18.87895460797799,
          -15.850015242353411,
          -17.449008498583556,
          -21.395208375276823,
          -24.662873399715505,
          -16.28292801359607,
          -1.2892184826012616,
          -1.7871326449563267,
          -5.84157303370786
         ]
        },
        {
         "legendgroup": "rthSKYxa30_acq-manualrefv",
         "line": {
          "color": "orange",
          "dash": "dash",
          "shape": "vhv",
          "width": 2
         },
         "marker": {
          "line": {
           "color": "black",
           "width": 1.5
          },
          "opacity": 0.75,
          "size": 20,
          "symbol": "circle-x"
         },
         "name": "VENUS<br><i>XA30old</i>",
         "type": "scatter",
         "x": [
          1,
          2,
          3,
          4,
          5,
          6,
          7,
          8,
          9,
          10
         ],
         "y": [
          -2.08144796380091,
          -4.944979367262714,
          1.2854384717000356,
          2.4461756373937686,
          3.1890477149184666,
          2.8790896159317265,
          10.884959333144502,
          23.707929264118643,
          20.51628276409848,
          10.331460674157315
         ]
        },
        {
         "legendgroup": "vendorSKYrev",
         "line": {
          "color": "rgba(0,200,205,1)",
          "dash": "solid",
          "shape": "vhv",
          "width": 2
         },
         "marker": {
          "line": {
           "color": "black",
           "width": 1.5
          },
          "opacity": 0.75,
          "size": 20,
          "symbol": "square"
         },
         "name": "NATIVE<br><i>VE11</i>",
         "type": "scatter",
         "x": [
          1,
          2,
          3,
          4,
          5,
          6,
          7,
          8,
          9,
          10
         ],
         "y": [
          8.929110105580682,
          6.38927097661623,
          8.617010466416014,
          4.025495750708216,
          -1.2583048117575957,
          -5.761024182076811,
          -1.46076963541456,
          13.359954363947516,
          10.691024622716418,
          4.232584269662929
         ]
        },
        {
         "legendgroup": "vendorSKYxa30_acq-test",
         "line": {
          "color": "black",
          "dash": "solid",
          "shape": "vhv",
          "width": 2
         },
         "marker": {
          "line": {
           "color": "black",
           "width": 1.5
          },
          "opacity": 0.75,
          "size": 20,
          "symbol": "arrow-bar-down"
         },
         "name": "NATIVE<br><i>XA30new</i>",
         "type": "scatter",
         "x": [
          1,
          2,
          3,
          4,
          5,
          6,
          7,
          8,
          9,
          10
         ],
         "y": [
          -11.48818501759679,
          -14.188445667125169,
          -10.240829184026001,
          -14.90368271954674,
          -17.082746124421178,
          -20.850640113798,
          -16.768502407639694,
          -7.723901882487179,
          -8.117553613979364,
          -13.3438202247191
         ]
        },
        {
         "legendgroup": "vendorSKYxa30_acq-manualrefv",
         "line": {
          "color": "rgba(0,200,205,1)",
          "dash": "solid",
          "shape": "vhv",
          "width": 2
         },
         "marker": {
          "line": {
           "color": "black",
           "width": 1.5
          },
          "opacity": 0.75,
          "size": 20,
          "symbol": "square-x"
         },
         "name": "NATIVE<br><i>XA30old</i>",
         "type": "scatter",
         "x": [
          1,
          2,
          3,
          4,
          5,
          6,
          7,
          8,
          9,
          10
         ],
         "y": [
          6.113624937154334,
          3.486932599724895,
          10.92368661721369,
          11.597733711048168,
          11.578417555868757,
          9.027027027027037,
          12.637073604985233,
          24.563605248146025,
          15.893566322478133,
          4.914606741573037
         ]
        }
       ],
       "layout": {
        "height": 400,
        "hovermode": "y",
        "legend": {
         "font": {
          "color": "black",
          "size": 14
         },
         "tracegroupgap": 20,
         "x": 1,
         "y": 1
        },
        "margin": {
         "b": 0,
         "l": 0,
         "r": 0,
         "t": 0
        },
        "template": {
         "data": {
          "bar": [
           {
            "error_x": {
             "color": "#2a3f5f"
            },
            "error_y": {
             "color": "#2a3f5f"
            },
            "marker": {
             "line": {
              "color": "#E5ECF6",
              "width": 0.5
             }
            },
            "type": "bar"
           }
          ],
          "barpolar": [
           {
            "marker": {
             "line": {
              "color": "#E5ECF6",
              "width": 0.5
             }
            },
            "type": "barpolar"
           }
          ],
          "carpet": [
           {
            "aaxis": {
             "endlinecolor": "#2a3f5f",
             "gridcolor": "white",
             "linecolor": "white",
             "minorgridcolor": "white",
             "startlinecolor": "#2a3f5f"
            },
            "baxis": {
             "endlinecolor": "#2a3f5f",
             "gridcolor": "white",
             "linecolor": "white",
             "minorgridcolor": "white",
             "startlinecolor": "#2a3f5f"
            },
            "type": "carpet"
           }
          ],
          "choropleth": [
           {
            "colorbar": {
             "outlinewidth": 0,
             "ticks": ""
            },
            "type": "choropleth"
           }
          ],
          "contour": [
           {
            "colorbar": {
             "outlinewidth": 0,
             "ticks": ""
            },
            "colorscale": [
             [
              0,
              "#0d0887"
             ],
             [
              0.1111111111111111,
              "#46039f"
             ],
             [
              0.2222222222222222,
              "#7201a8"
             ],
             [
              0.3333333333333333,
              "#9c179e"
             ],
             [
              0.4444444444444444,
              "#bd3786"
             ],
             [
              0.5555555555555556,
              "#d8576b"
             ],
             [
              0.6666666666666666,
              "#ed7953"
             ],
             [
              0.7777777777777778,
              "#fb9f3a"
             ],
             [
              0.8888888888888888,
              "#fdca26"
             ],
             [
              1,
              "#f0f921"
             ]
            ],
            "type": "contour"
           }
          ],
          "contourcarpet": [
           {
            "colorbar": {
             "outlinewidth": 0,
             "ticks": ""
            },
            "type": "contourcarpet"
           }
          ],
          "heatmap": [
           {
            "colorbar": {
             "outlinewidth": 0,
             "ticks": ""
            },
            "colorscale": [
             [
              0,
              "#0d0887"
             ],
             [
              0.1111111111111111,
              "#46039f"
             ],
             [
              0.2222222222222222,
              "#7201a8"
             ],
             [
              0.3333333333333333,
              "#9c179e"
             ],
             [
              0.4444444444444444,
              "#bd3786"
             ],
             [
              0.5555555555555556,
              "#d8576b"
             ],
             [
              0.6666666666666666,
              "#ed7953"
             ],
             [
              0.7777777777777778,
              "#fb9f3a"
             ],
             [
              0.8888888888888888,
              "#fdca26"
             ],
             [
              1,
              "#f0f921"
             ]
            ],
            "type": "heatmap"
           }
          ],
          "heatmapgl": [
           {
            "colorbar": {
             "outlinewidth": 0,
             "ticks": ""
            },
            "colorscale": [
             [
              0,
              "#0d0887"
             ],
             [
              0.1111111111111111,
              "#46039f"
             ],
             [
              0.2222222222222222,
              "#7201a8"
             ],
             [
              0.3333333333333333,
              "#9c179e"
             ],
             [
              0.4444444444444444,
              "#bd3786"
             ],
             [
              0.5555555555555556,
              "#d8576b"
             ],
             [
              0.6666666666666666,
              "#ed7953"
             ],
             [
              0.7777777777777778,
              "#fb9f3a"
             ],
             [
              0.8888888888888888,
              "#fdca26"
             ],
             [
              1,
              "#f0f921"
             ]
            ],
            "type": "heatmapgl"
           }
          ],
          "histogram": [
           {
            "marker": {
             "colorbar": {
              "outlinewidth": 0,
              "ticks": ""
             }
            },
            "type": "histogram"
           }
          ],
          "histogram2d": [
           {
            "colorbar": {
             "outlinewidth": 0,
             "ticks": ""
            },
            "colorscale": [
             [
              0,
              "#0d0887"
             ],
             [
              0.1111111111111111,
              "#46039f"
             ],
             [
              0.2222222222222222,
              "#7201a8"
             ],
             [
              0.3333333333333333,
              "#9c179e"
             ],
             [
              0.4444444444444444,
              "#bd3786"
             ],
             [
              0.5555555555555556,
              "#d8576b"
             ],
             [
              0.6666666666666666,
              "#ed7953"
             ],
             [
              0.7777777777777778,
              "#fb9f3a"
             ],
             [
              0.8888888888888888,
              "#fdca26"
             ],
             [
              1,
              "#f0f921"
             ]
            ],
            "type": "histogram2d"
           }
          ],
          "histogram2dcontour": [
           {
            "colorbar": {
             "outlinewidth": 0,
             "ticks": ""
            },
            "colorscale": [
             [
              0,
              "#0d0887"
             ],
             [
              0.1111111111111111,
              "#46039f"
             ],
             [
              0.2222222222222222,
              "#7201a8"
             ],
             [
              0.3333333333333333,
              "#9c179e"
             ],
             [
              0.4444444444444444,
              "#bd3786"
             ],
             [
              0.5555555555555556,
              "#d8576b"
             ],
             [
              0.6666666666666666,
              "#ed7953"
             ],
             [
              0.7777777777777778,
              "#fb9f3a"
             ],
             [
              0.8888888888888888,
              "#fdca26"
             ],
             [
              1,
              "#f0f921"
             ]
            ],
            "type": "histogram2dcontour"
           }
          ],
          "mesh3d": [
           {
            "colorbar": {
             "outlinewidth": 0,
             "ticks": ""
            },
            "type": "mesh3d"
           }
          ],
          "parcoords": [
           {
            "line": {
             "colorbar": {
              "outlinewidth": 0,
              "ticks": ""
             }
            },
            "type": "parcoords"
           }
          ],
          "pie": [
           {
            "automargin": true,
            "type": "pie"
           }
          ],
          "scatter": [
           {
            "marker": {
             "colorbar": {
              "outlinewidth": 0,
              "ticks": ""
             }
            },
            "type": "scatter"
           }
          ],
          "scatter3d": [
           {
            "line": {
             "colorbar": {
              "outlinewidth": 0,
              "ticks": ""
             }
            },
            "marker": {
             "colorbar": {
              "outlinewidth": 0,
              "ticks": ""
             }
            },
            "type": "scatter3d"
           }
          ],
          "scattercarpet": [
           {
            "marker": {
             "colorbar": {
              "outlinewidth": 0,
              "ticks": ""
             }
            },
            "type": "scattercarpet"
           }
          ],
          "scattergeo": [
           {
            "marker": {
             "colorbar": {
              "outlinewidth": 0,
              "ticks": ""
             }
            },
            "type": "scattergeo"
           }
          ],
          "scattergl": [
           {
            "marker": {
             "colorbar": {
              "outlinewidth": 0,
              "ticks": ""
             }
            },
            "type": "scattergl"
           }
          ],
          "scattermapbox": [
           {
            "marker": {
             "colorbar": {
              "outlinewidth": 0,
              "ticks": ""
             }
            },
            "type": "scattermapbox"
           }
          ],
          "scatterpolar": [
           {
            "marker": {
             "colorbar": {
              "outlinewidth": 0,
              "ticks": ""
             }
            },
            "type": "scatterpolar"
           }
          ],
          "scatterpolargl": [
           {
            "marker": {
             "colorbar": {
              "outlinewidth": 0,
              "ticks": ""
             }
            },
            "type": "scatterpolargl"
           }
          ],
          "scatterternary": [
           {
            "marker": {
             "colorbar": {
              "outlinewidth": 0,
              "ticks": ""
             }
            },
            "type": "scatterternary"
           }
          ],
          "surface": [
           {
            "colorbar": {
             "outlinewidth": 0,
             "ticks": ""
            },
            "colorscale": [
             [
              0,
              "#0d0887"
             ],
             [
              0.1111111111111111,
              "#46039f"
             ],
             [
              0.2222222222222222,
              "#7201a8"
             ],
             [
              0.3333333333333333,
              "#9c179e"
             ],
             [
              0.4444444444444444,
              "#bd3786"
             ],
             [
              0.5555555555555556,
              "#d8576b"
             ],
             [
              0.6666666666666666,
              "#ed7953"
             ],
             [
              0.7777777777777778,
              "#fb9f3a"
             ],
             [
              0.8888888888888888,
              "#fdca26"
             ],
             [
              1,
              "#f0f921"
             ]
            ],
            "type": "surface"
           }
          ],
          "table": [
           {
            "cells": {
             "fill": {
              "color": "#EBF0F8"
             },
             "line": {
              "color": "white"
             }
            },
            "header": {
             "fill": {
              "color": "#C8D4E3"
             },
             "line": {
              "color": "white"
             }
            },
            "type": "table"
           }
          ]
         },
         "layout": {
          "annotationdefaults": {
           "arrowcolor": "#2a3f5f",
           "arrowhead": 0,
           "arrowwidth": 1
          },
          "autotypenumbers": "strict",
          "coloraxis": {
           "colorbar": {
            "outlinewidth": 0,
            "ticks": ""
           }
          },
          "colorscale": {
           "diverging": [
            [
             0,
             "#8e0152"
            ],
            [
             0.1,
             "#c51b7d"
            ],
            [
             0.2,
             "#de77ae"
            ],
            [
             0.3,
             "#f1b6da"
            ],
            [
             0.4,
             "#fde0ef"
            ],
            [
             0.5,
             "#f7f7f7"
            ],
            [
             0.6,
             "#e6f5d0"
            ],
            [
             0.7,
             "#b8e186"
            ],
            [
             0.8,
             "#7fbc41"
            ],
            [
             0.9,
             "#4d9221"
            ],
            [
             1,
             "#276419"
            ]
           ],
           "sequential": [
            [
             0,
             "#0d0887"
            ],
            [
             0.1111111111111111,
             "#46039f"
            ],
            [
             0.2222222222222222,
             "#7201a8"
            ],
            [
             0.3333333333333333,
             "#9c179e"
            ],
            [
             0.4444444444444444,
             "#bd3786"
            ],
            [
             0.5555555555555556,
             "#d8576b"
            ],
            [
             0.6666666666666666,
             "#ed7953"
            ],
            [
             0.7777777777777778,
             "#fb9f3a"
            ],
            [
             0.8888888888888888,
             "#fdca26"
            ],
            [
             1,
             "#f0f921"
            ]
           ],
           "sequentialminus": [
            [
             0,
             "#0d0887"
            ],
            [
             0.1111111111111111,
             "#46039f"
            ],
            [
             0.2222222222222222,
             "#7201a8"
            ],
            [
             0.3333333333333333,
             "#9c179e"
            ],
            [
             0.4444444444444444,
             "#bd3786"
            ],
            [
             0.5555555555555556,
             "#d8576b"
            ],
            [
             0.6666666666666666,
             "#ed7953"
            ],
            [
             0.7777777777777778,
             "#fb9f3a"
            ],
            [
             0.8888888888888888,
             "#fdca26"
            ],
            [
             1,
             "#f0f921"
            ]
           ]
          },
          "colorway": [
           "#636efa",
           "#EF553B",
           "#00cc96",
           "#ab63fa",
           "#FFA15A",
           "#19d3f3",
           "#FF6692",
           "#B6E880",
           "#FF97FF",
           "#FECB52"
          ],
          "font": {
           "color": "#2a3f5f"
          },
          "geo": {
           "bgcolor": "white",
           "lakecolor": "white",
           "landcolor": "#E5ECF6",
           "showlakes": true,
           "showland": true,
           "subunitcolor": "white"
          },
          "hoverlabel": {
           "align": "left"
          },
          "hovermode": "closest",
          "mapbox": {
           "style": "light"
          },
          "paper_bgcolor": "white",
          "plot_bgcolor": "#E5ECF6",
          "polar": {
           "angularaxis": {
            "gridcolor": "white",
            "linecolor": "white",
            "ticks": ""
           },
           "bgcolor": "#E5ECF6",
           "radialaxis": {
            "gridcolor": "white",
            "linecolor": "white",
            "ticks": ""
           }
          },
          "scene": {
           "xaxis": {
            "backgroundcolor": "#E5ECF6",
            "gridcolor": "white",
            "gridwidth": 2,
            "linecolor": "white",
            "showbackground": true,
            "ticks": "",
            "zerolinecolor": "white"
           },
           "yaxis": {
            "backgroundcolor": "#E5ECF6",
            "gridcolor": "white",
            "gridwidth": 2,
            "linecolor": "white",
            "showbackground": true,
            "ticks": "",
            "zerolinecolor": "white"
           },
           "zaxis": {
            "backgroundcolor": "#E5ECF6",
            "gridcolor": "white",
            "gridwidth": 2,
            "linecolor": "white",
            "showbackground": true,
            "ticks": "",
            "zerolinecolor": "white"
           }
          },
          "shapedefaults": {
           "line": {
            "color": "#2a3f5f"
           }
          },
          "ternary": {
           "aaxis": {
            "gridcolor": "white",
            "linecolor": "white",
            "ticks": ""
           },
           "baxis": {
            "gridcolor": "white",
            "linecolor": "white",
            "ticks": ""
           },
           "bgcolor": "#E5ECF6",
           "caxis": {
            "gridcolor": "white",
            "linecolor": "white",
            "ticks": ""
           }
          },
          "title": {
           "x": 0.05
          },
          "xaxis": {
           "automargin": true,
           "gridcolor": "white",
           "linecolor": "white",
           "ticks": "",
           "title": {
            "standoff": 15
           },
           "zerolinecolor": "white",
           "zerolinewidth": 2
          },
          "yaxis": {
           "automargin": true,
           "gridcolor": "white",
           "linecolor": "white",
           "ticks": "",
           "title": {
            "standoff": 15
           },
           "zerolinecolor": "white",
           "zerolinewidth": 2
          }
         }
        },
        "title": {
         "font": {
          "color": "black"
         }
        },
        "width": 1000,
        "xaxis": {
         "gridcolor": "#708090",
         "linecolor": "black",
         "showticklabels": true,
         "tickmode": "array",
         "ticktext": [
          "R10",
          "R9",
          "R8",
          "R7",
          "R6",
          "R5",
          "R4",
          "R3",
          "R2",
          "R1"
         ],
         "tickvals": [
          1,
          2,
          3,
          4,
          5,
          6,
          7,
          8,
          9,
          10
         ],
         "title": {
          "text": "Reference Spheres (R1 - R10)"
         },
         "zerolinecolor": "black"
        },
        "yaxis": {
         "gridcolor": "#708090",
         "linecolor": "black",
         "range": [
          -25,
          28
         ],
         "showticklabels": true,
         "title": {
          "text": "∆T1 (%)"
         },
         "zerolinecolor": "black",
         "zerolinewidth": 3
        }
       }
      },
      "text/html": [
       "<div>                            <div id=\"98f55493-6219-4aae-903c-31ff68c7670c\" class=\"plotly-graph-div\" style=\"height:400px; width:1000px;\"></div>            <script type=\"text/javascript\">                require([\"plotly\"], function(Plotly) {                    window.PLOTLYENV=window.PLOTLYENV || {};                                    if (document.getElementById(\"98f55493-6219-4aae-903c-31ff68c7670c\")) {                    Plotly.newPlot(                        \"98f55493-6219-4aae-903c-31ff68c7670c\",                        [{\"legendgroup\": \"rthSKYrev\", \"line\": {\"color\": \"orange\", \"dash\": \"dash\", \"shape\": \"vhv\", \"width\": 2}, \"marker\": {\"line\": {\"color\": \"black\", \"width\": 1.5}, \"opacity\": 0.75, \"size\": 20, \"symbol\": \"circle\"}, \"name\": \"VENUS<br><i>VE11</i>\", \"type\": \"scatter\", \"x\": [1, 2, 3, 4, 5, 6, 7, 8, 9, 10], \"y\": [0.11563599798893759, -2.276478679504808, 1.6969820140229588, -1.4674220963172855, -5.26474733239379, -7.84637268847795, 0.861894549427424, 15.881346263548204, 18.228752978554404, 12.505617977528091]}, {\"legendgroup\": \"rthSKYxa30_acq-test\", \"line\": {\"color\": \"black\", \"dash\": \"dash\", \"shape\": \"vhv\", \"width\": 2}, \"marker\": {\"line\": {\"color\": \"black\", \"width\": 1.5}, \"opacity\": 0.75, \"size\": 20, \"symbol\": \"arrow-bar-down\"}, \"name\": \"VENUS<br><i>XA30new</i>\", \"type\": \"scatter\", \"x\": [1, 2, 3, 4, 5, 6, 7, 8, 9, 10], \"y\": [-16.108597285067873, -18.87895460797799, -15.850015242353411, -17.449008498583556, -21.395208375276823, -24.662873399715505, -16.28292801359607, -1.2892184826012616, -1.7871326449563267, -5.84157303370786]}, {\"legendgroup\": \"rthSKYxa30_acq-manualrefv\", \"line\": {\"color\": \"orange\", \"dash\": \"dash\", \"shape\": \"vhv\", \"width\": 2}, \"marker\": {\"line\": {\"color\": \"black\", \"width\": 1.5}, \"opacity\": 0.75, \"size\": 20, \"symbol\": \"circle-x\"}, \"name\": \"VENUS<br><i>XA30old</i>\", \"type\": \"scatter\", \"x\": [1, 2, 3, 4, 5, 6, 7, 8, 9, 10], \"y\": [-2.08144796380091, -4.944979367262714, 1.2854384717000356, 2.4461756373937686, 3.1890477149184666, 2.8790896159317265, 10.884959333144502, 23.707929264118643, 20.51628276409848, 10.331460674157315]}, {\"legendgroup\": \"vendorSKYrev\", \"line\": {\"color\": \"rgba(0,200,205,1)\", \"dash\": \"solid\", \"shape\": \"vhv\", \"width\": 2}, \"marker\": {\"line\": {\"color\": \"black\", \"width\": 1.5}, \"opacity\": 0.75, \"size\": 20, \"symbol\": \"square\"}, \"name\": \"NATIVE<br><i>VE11</i>\", \"type\": \"scatter\", \"x\": [1, 2, 3, 4, 5, 6, 7, 8, 9, 10], \"y\": [8.929110105580682, 6.38927097661623, 8.617010466416014, 4.025495750708216, -1.2583048117575957, -5.761024182076811, -1.46076963541456, 13.359954363947516, 10.691024622716418, 4.232584269662929]}, {\"legendgroup\": \"vendorSKYxa30_acq-test\", \"line\": {\"color\": \"black\", \"dash\": \"solid\", \"shape\": \"vhv\", \"width\": 2}, \"marker\": {\"line\": {\"color\": \"black\", \"width\": 1.5}, \"opacity\": 0.75, \"size\": 20, \"symbol\": \"arrow-bar-down\"}, \"name\": \"NATIVE<br><i>XA30new</i>\", \"type\": \"scatter\", \"x\": [1, 2, 3, 4, 5, 6, 7, 8, 9, 10], \"y\": [-11.48818501759679, -14.188445667125169, -10.240829184026001, -14.90368271954674, -17.082746124421178, -20.850640113798, -16.768502407639694, -7.723901882487179, -8.117553613979364, -13.3438202247191]}, {\"legendgroup\": \"vendorSKYxa30_acq-manualrefv\", \"line\": {\"color\": \"rgba(0,200,205,1)\", \"dash\": \"solid\", \"shape\": \"vhv\", \"width\": 2}, \"marker\": {\"line\": {\"color\": \"black\", \"width\": 1.5}, \"opacity\": 0.75, \"size\": 20, \"symbol\": \"square-x\"}, \"name\": \"NATIVE<br><i>XA30old</i>\", \"type\": \"scatter\", \"x\": [1, 2, 3, 4, 5, 6, 7, 8, 9, 10], \"y\": [6.113624937154334, 3.486932599724895, 10.92368661721369, 11.597733711048168, 11.578417555868757, 9.027027027027037, 12.637073604985233, 24.563605248146025, 15.893566322478133, 4.914606741573037]}],                        {\"height\": 400, \"hovermode\": \"y\", \"legend\": {\"font\": {\"color\": \"black\", \"size\": 14}, \"tracegroupgap\": 20, \"x\": 1, \"y\": 1}, \"margin\": {\"b\": 0, \"l\": 0, \"r\": 0, \"t\": 0}, \"template\": {\"data\": {\"bar\": [{\"error_x\": {\"color\": \"#2a3f5f\"}, \"error_y\": {\"color\": \"#2a3f5f\"}, \"marker\": {\"line\": {\"color\": \"#E5ECF6\", \"width\": 0.5}}, \"type\": \"bar\"}], \"barpolar\": [{\"marker\": {\"line\": {\"color\": \"#E5ECF6\", \"width\": 0.5}}, \"type\": \"barpolar\"}], \"carpet\": [{\"aaxis\": {\"endlinecolor\": \"#2a3f5f\", \"gridcolor\": \"white\", \"linecolor\": \"white\", \"minorgridcolor\": \"white\", \"startlinecolor\": \"#2a3f5f\"}, \"baxis\": {\"endlinecolor\": \"#2a3f5f\", \"gridcolor\": \"white\", \"linecolor\": \"white\", \"minorgridcolor\": \"white\", \"startlinecolor\": \"#2a3f5f\"}, \"type\": \"carpet\"}], \"choropleth\": [{\"colorbar\": {\"outlinewidth\": 0, \"ticks\": \"\"}, \"type\": \"choropleth\"}], \"contour\": [{\"colorbar\": {\"outlinewidth\": 0, \"ticks\": \"\"}, \"colorscale\": [[0.0, \"#0d0887\"], [0.1111111111111111, \"#46039f\"], [0.2222222222222222, \"#7201a8\"], [0.3333333333333333, \"#9c179e\"], [0.4444444444444444, \"#bd3786\"], [0.5555555555555556, \"#d8576b\"], [0.6666666666666666, \"#ed7953\"], [0.7777777777777778, \"#fb9f3a\"], [0.8888888888888888, \"#fdca26\"], [1.0, \"#f0f921\"]], \"type\": \"contour\"}], \"contourcarpet\": [{\"colorbar\": {\"outlinewidth\": 0, \"ticks\": \"\"}, \"type\": \"contourcarpet\"}], \"heatmap\": [{\"colorbar\": {\"outlinewidth\": 0, \"ticks\": \"\"}, \"colorscale\": [[0.0, \"#0d0887\"], [0.1111111111111111, \"#46039f\"], [0.2222222222222222, \"#7201a8\"], [0.3333333333333333, \"#9c179e\"], [0.4444444444444444, \"#bd3786\"], [0.5555555555555556, \"#d8576b\"], [0.6666666666666666, \"#ed7953\"], [0.7777777777777778, \"#fb9f3a\"], [0.8888888888888888, \"#fdca26\"], [1.0, \"#f0f921\"]], \"type\": \"heatmap\"}], \"heatmapgl\": [{\"colorbar\": {\"outlinewidth\": 0, \"ticks\": \"\"}, \"colorscale\": [[0.0, \"#0d0887\"], [0.1111111111111111, \"#46039f\"], [0.2222222222222222, \"#7201a8\"], [0.3333333333333333, \"#9c179e\"], [0.4444444444444444, \"#bd3786\"], [0.5555555555555556, \"#d8576b\"], [0.6666666666666666, \"#ed7953\"], [0.7777777777777778, \"#fb9f3a\"], [0.8888888888888888, \"#fdca26\"], [1.0, \"#f0f921\"]], \"type\": \"heatmapgl\"}], \"histogram\": [{\"marker\": {\"colorbar\": {\"outlinewidth\": 0, \"ticks\": \"\"}}, \"type\": \"histogram\"}], \"histogram2d\": [{\"colorbar\": {\"outlinewidth\": 0, \"ticks\": \"\"}, \"colorscale\": [[0.0, \"#0d0887\"], [0.1111111111111111, \"#46039f\"], [0.2222222222222222, \"#7201a8\"], [0.3333333333333333, \"#9c179e\"], [0.4444444444444444, \"#bd3786\"], [0.5555555555555556, \"#d8576b\"], [0.6666666666666666, \"#ed7953\"], [0.7777777777777778, \"#fb9f3a\"], [0.8888888888888888, \"#fdca26\"], [1.0, \"#f0f921\"]], \"type\": \"histogram2d\"}], \"histogram2dcontour\": [{\"colorbar\": {\"outlinewidth\": 0, \"ticks\": \"\"}, \"colorscale\": [[0.0, \"#0d0887\"], [0.1111111111111111, \"#46039f\"], [0.2222222222222222, \"#7201a8\"], [0.3333333333333333, \"#9c179e\"], [0.4444444444444444, \"#bd3786\"], [0.5555555555555556, \"#d8576b\"], [0.6666666666666666, \"#ed7953\"], [0.7777777777777778, \"#fb9f3a\"], [0.8888888888888888, \"#fdca26\"], [1.0, \"#f0f921\"]], \"type\": \"histogram2dcontour\"}], \"mesh3d\": [{\"colorbar\": {\"outlinewidth\": 0, \"ticks\": \"\"}, \"type\": \"mesh3d\"}], \"parcoords\": [{\"line\": {\"colorbar\": {\"outlinewidth\": 0, \"ticks\": \"\"}}, \"type\": \"parcoords\"}], \"pie\": [{\"automargin\": true, \"type\": \"pie\"}], \"scatter\": [{\"marker\": {\"colorbar\": {\"outlinewidth\": 0, \"ticks\": \"\"}}, \"type\": \"scatter\"}], \"scatter3d\": [{\"line\": {\"colorbar\": {\"outlinewidth\": 0, \"ticks\": \"\"}}, \"marker\": {\"colorbar\": {\"outlinewidth\": 0, \"ticks\": \"\"}}, \"type\": \"scatter3d\"}], \"scattercarpet\": [{\"marker\": {\"colorbar\": {\"outlinewidth\": 0, \"ticks\": \"\"}}, \"type\": \"scattercarpet\"}], \"scattergeo\": [{\"marker\": {\"colorbar\": {\"outlinewidth\": 0, \"ticks\": \"\"}}, \"type\": \"scattergeo\"}], \"scattergl\": [{\"marker\": {\"colorbar\": {\"outlinewidth\": 0, \"ticks\": \"\"}}, \"type\": \"scattergl\"}], \"scattermapbox\": [{\"marker\": {\"colorbar\": {\"outlinewidth\": 0, \"ticks\": \"\"}}, \"type\": \"scattermapbox\"}], \"scatterpolar\": [{\"marker\": {\"colorbar\": {\"outlinewidth\": 0, \"ticks\": \"\"}}, \"type\": \"scatterpolar\"}], \"scatterpolargl\": [{\"marker\": {\"colorbar\": {\"outlinewidth\": 0, \"ticks\": \"\"}}, \"type\": \"scatterpolargl\"}], \"scatterternary\": [{\"marker\": {\"colorbar\": {\"outlinewidth\": 0, \"ticks\": \"\"}}, \"type\": \"scatterternary\"}], \"surface\": [{\"colorbar\": {\"outlinewidth\": 0, \"ticks\": \"\"}, \"colorscale\": [[0.0, \"#0d0887\"], [0.1111111111111111, \"#46039f\"], [0.2222222222222222, \"#7201a8\"], [0.3333333333333333, \"#9c179e\"], [0.4444444444444444, \"#bd3786\"], [0.5555555555555556, \"#d8576b\"], [0.6666666666666666, \"#ed7953\"], [0.7777777777777778, \"#fb9f3a\"], [0.8888888888888888, \"#fdca26\"], [1.0, \"#f0f921\"]], \"type\": \"surface\"}], \"table\": [{\"cells\": {\"fill\": {\"color\": \"#EBF0F8\"}, \"line\": {\"color\": \"white\"}}, \"header\": {\"fill\": {\"color\": \"#C8D4E3\"}, \"line\": {\"color\": \"white\"}}, \"type\": \"table\"}]}, \"layout\": {\"annotationdefaults\": {\"arrowcolor\": \"#2a3f5f\", \"arrowhead\": 0, \"arrowwidth\": 1}, \"autotypenumbers\": \"strict\", \"coloraxis\": {\"colorbar\": {\"outlinewidth\": 0, \"ticks\": \"\"}}, \"colorscale\": {\"diverging\": [[0, \"#8e0152\"], [0.1, \"#c51b7d\"], [0.2, \"#de77ae\"], [0.3, \"#f1b6da\"], [0.4, \"#fde0ef\"], [0.5, \"#f7f7f7\"], [0.6, \"#e6f5d0\"], [0.7, \"#b8e186\"], [0.8, \"#7fbc41\"], [0.9, \"#4d9221\"], [1, \"#276419\"]], \"sequential\": [[0.0, \"#0d0887\"], [0.1111111111111111, \"#46039f\"], [0.2222222222222222, \"#7201a8\"], [0.3333333333333333, \"#9c179e\"], [0.4444444444444444, \"#bd3786\"], [0.5555555555555556, \"#d8576b\"], [0.6666666666666666, \"#ed7953\"], [0.7777777777777778, \"#fb9f3a\"], [0.8888888888888888, \"#fdca26\"], [1.0, \"#f0f921\"]], \"sequentialminus\": [[0.0, \"#0d0887\"], [0.1111111111111111, \"#46039f\"], [0.2222222222222222, \"#7201a8\"], [0.3333333333333333, \"#9c179e\"], [0.4444444444444444, \"#bd3786\"], [0.5555555555555556, \"#d8576b\"], [0.6666666666666666, \"#ed7953\"], [0.7777777777777778, \"#fb9f3a\"], [0.8888888888888888, \"#fdca26\"], [1.0, \"#f0f921\"]]}, \"colorway\": [\"#636efa\", \"#EF553B\", \"#00cc96\", \"#ab63fa\", \"#FFA15A\", \"#19d3f3\", \"#FF6692\", \"#B6E880\", \"#FF97FF\", \"#FECB52\"], \"font\": {\"color\": \"#2a3f5f\"}, \"geo\": {\"bgcolor\": \"white\", \"lakecolor\": \"white\", \"landcolor\": \"#E5ECF6\", \"showlakes\": true, \"showland\": true, \"subunitcolor\": \"white\"}, \"hoverlabel\": {\"align\": \"left\"}, \"hovermode\": \"closest\", \"mapbox\": {\"style\": \"light\"}, \"paper_bgcolor\": \"white\", \"plot_bgcolor\": \"#E5ECF6\", \"polar\": {\"angularaxis\": {\"gridcolor\": \"white\", \"linecolor\": \"white\", \"ticks\": \"\"}, \"bgcolor\": \"#E5ECF6\", \"radialaxis\": {\"gridcolor\": \"white\", \"linecolor\": \"white\", \"ticks\": \"\"}}, \"scene\": {\"xaxis\": {\"backgroundcolor\": \"#E5ECF6\", \"gridcolor\": \"white\", \"gridwidth\": 2, \"linecolor\": \"white\", \"showbackground\": true, \"ticks\": \"\", \"zerolinecolor\": \"white\"}, \"yaxis\": {\"backgroundcolor\": \"#E5ECF6\", \"gridcolor\": \"white\", \"gridwidth\": 2, \"linecolor\": \"white\", \"showbackground\": true, \"ticks\": \"\", \"zerolinecolor\": \"white\"}, \"zaxis\": {\"backgroundcolor\": \"#E5ECF6\", \"gridcolor\": \"white\", \"gridwidth\": 2, \"linecolor\": \"white\", \"showbackground\": true, \"ticks\": \"\", \"zerolinecolor\": \"white\"}}, \"shapedefaults\": {\"line\": {\"color\": \"#2a3f5f\"}}, \"ternary\": {\"aaxis\": {\"gridcolor\": \"white\", \"linecolor\": \"white\", \"ticks\": \"\"}, \"baxis\": {\"gridcolor\": \"white\", \"linecolor\": \"white\", \"ticks\": \"\"}, \"bgcolor\": \"#E5ECF6\", \"caxis\": {\"gridcolor\": \"white\", \"linecolor\": \"white\", \"ticks\": \"\"}}, \"title\": {\"x\": 0.05}, \"xaxis\": {\"automargin\": true, \"gridcolor\": \"white\", \"linecolor\": \"white\", \"ticks\": \"\", \"title\": {\"standoff\": 15}, \"zerolinecolor\": \"white\", \"zerolinewidth\": 2}, \"yaxis\": {\"automargin\": true, \"gridcolor\": \"white\", \"linecolor\": \"white\", \"ticks\": \"\", \"title\": {\"standoff\": 15}, \"zerolinecolor\": \"white\", \"zerolinewidth\": 2}}}, \"title\": {\"font\": {\"color\": \"black\"}}, \"width\": 1000, \"xaxis\": {\"gridcolor\": \"#708090\", \"linecolor\": \"black\", \"showticklabels\": true, \"tickmode\": \"array\", \"ticktext\": [\"R10\", \"R9\", \"R8\", \"R7\", \"R6\", \"R5\", \"R4\", \"R3\", \"R2\", \"R1\"], \"tickvals\": [1, 2, 3, 4, 5, 6, 7, 8, 9, 10], \"title\": {\"text\": \"Reference Spheres (R1 - R10)\"}, \"zerolinecolor\": \"black\"}, \"yaxis\": {\"gridcolor\": \"#708090\", \"linecolor\": \"black\", \"range\": [-25, 28], \"showticklabels\": true, \"title\": {\"text\": \"\\u2206T1 (%)\"}, \"zerolinecolor\": \"black\", \"zerolinewidth\": 3}},                        {\"responsive\": true}                    ).then(function(){\n",
       "                            \n",
       "var gd = document.getElementById('98f55493-6219-4aae-903c-31ff68c7670c');\n",
       "var x = new MutationObserver(function (mutations, observer) {{\n",
       "        var display = window.getComputedStyle(gd).display;\n",
       "        if (!display || display === 'none') {{\n",
       "            console.log([gd, 'removed!']);\n",
       "            Plotly.purge(gd);\n",
       "            observer.disconnect();\n",
       "        }}\n",
       "}});\n",
       "\n",
       "// Listen for the removal of the full notebook cells\n",
       "var notebookContainer = gd.closest('#notebook-container');\n",
       "if (notebookContainer) {{\n",
       "    x.observe(notebookContainer, {childList: true});\n",
       "}}\n",
       "\n",
       "// Listen for the clearing of the current output cell\n",
       "var outputEl = gd.closest('.output');\n",
       "if (outputEl) {{\n",
       "    x.observe(outputEl, {childList: true});\n",
       "}}\n",
       "\n",
       "                        })                };                });            </script>        </div>"
      ]
     },
     "metadata": {},
     "output_type": "display_data"
    }
   ],
   "source": [
    "df = pd.DataFrame()\n",
    "fig = go.Figure()\n",
    "for jj in range(0,len(sessions),1):\n",
    "    cur_csv = pd.read_csv(derivativesDir + '/sub-phantom/' + 'ses-' + sessions[jj].partition('_')[0] + '/stat/sub-phantom_ses-' + sessions[jj] + '_stat_summary.csv')\n",
    "    #cur_csv = pd.read_csv(derivativesDir + '/sub-phantom/' + 'ses-' + sessions[jj] + '/stat/sub-phantom_ses-' + sessions[jj] + '_stat_summary.csv')\n",
    "    avg_array = np.array(cur_csv['T1 (mean)'])\n",
    "    std_array = np.array(cur_csv['T1 (std)'])\n",
    "    cur_tag = sessions[jj]\n",
    "    # Measurement error\n",
    "    pcterr = ((np.array(avg_array) - np.array(refMean))/np.array(refMean))*100\n",
    "    fig.add_trace(go.Scatter(\n",
    "        y=pcterr, x=spheres,\n",
    "        line_color=colors2[cur_tag],\n",
    "        name= convert_tag[cur_tag],\n",
    "        marker = dict(size=20,symbol=line_sym[cur_tag],line=dict(color='black',width=1.5),opacity=0.75),\n",
    "        line=dict(width=2, dash=line_dash[cur_tag]),\n",
    "        line_shape='vhv',\n",
    "        legendgroup = cur_tag\n",
    "    ))\n",
    "fig.update_layout(height=400, width=1000)\n",
    "fig.update_layout(legend=dict(x=1, y=1,tracegroupgap=300,font=dict(color=\"black\")),margin=dict(l=0,r=0,t=0,b=0))\n",
    "axis_template = dict(linecolor = 'black', \n",
    "                     showticklabels = True,\n",
    "                     gridcolor = '#708090'\n",
    "                    )\n",
    "fig.update_yaxes(axis_template,zerolinecolor=\"black\",zerolinewidth=3)\n",
    "fig.update_xaxes(axis_template,zerolinecolor=\"black\")\n",
    "fig.update_layout(hovermode = \"y\")\n",
    "fig.update_yaxes(range=[-25,28],title=\"∆T1 (%)\")\n",
    "fig.update_xaxes(tickmode=\"array\",tickvals=spheres,ticktext=[\"R10\",\"R9\",\"R8\",\"R7\",\"R6\",\"R5\",\"R4\",\"R3\",\"R2\",\"R1\"],title = \"Reference Spheres (R1 - R10)\")\n",
    "fig.update_layout(title_font_color=\"black\")\n",
    "fig.update_layout(legend=dict(x=1, y=1,tracegroupgap=20,font=dict(color=\"black\",size=14)))\n",
    "\n",
    "fig.show()"
   ]
  },
  {
   "cell_type": "markdown",
   "metadata": {},
   "source": [
    "### Averaged  `∆T1` comparison\n",
    "\n",
    "`````{admonition} Note\n",
    ":class: tip\n",
    "Reproduces Figure 4d from the [article](https://www.biorxiv.org/content/10.1101/2021.12.27.474259v2).\n",
    "`````\n",
    "\n",
    "\n",
    "T1 values are averaged over S1-2 (SNATIVE and SVENUS, green square and orange circle) and according to the acquisition type (NATIVE and VENUS, black square and black circle). Inter-vendor percent differences are displayed on hover.\n",
    "\n",
    "> In addition to the prominent improvement in G1 accuracy, S<sub>VENUS</sub> is closer to the reference than S<sub>NATIVE</sub> for most of the relevant range (∆T1 of 7.6, 3.5, 5.4, 0.7% and 3.2, 0.9, 2, 1.3% for S<sub>NATIVE</sub> and S<sub>VENUS</sub>, respectively).\n",
    "\n",
    "> **In conclusion, VENUS reduces between-vendor differences with an overall accuracy improvement.**\n",
    "\n",
    "\n",
    "You can change the range (`lastN`) (up to 9) in the following code cell."
   ]
  },
  {
   "cell_type": "code",
   "execution_count": null,
   "metadata": {
    "tags": [
     "hide-input"
    ]
   },
   "outputs": [],
   "source": [
    "sessions = ['rthSKYrev','rthSKYxa30',\n",
    "            'vendorSKYrev','vendorSKYxa30']\n",
    "\n",
    "# Set to R7-R10\n",
    "lastN = 4\n",
    "\n",
    "df = pd.DataFrame()\n",
    "fig = go.Figure()\n",
    "\n",
    "rth750 = derivativesDir + '/sub-phantom/' + 'ses-' + sessions[3] + '/stat/sub-phantom_ses-' + sessions[3] + '_stat_summary.csv'\n",
    "rthPRI = derivativesDir + '/sub-phantom/' + 'ses-' + sessions[4] + '/stat/sub-phantom_ses-' + sessions[4] + '_stat_summary.csv'\n",
    "rthSKY = derivativesDir + '/sub-phantom/' + 'ses-' + sessions[5] + '/stat/sub-phantom_ses-' + sessions[5] + '_stat_summary.csv'\n",
    "rth750 = pd.read_csv(rth750)\n",
    "rthPRI = pd.read_csv(rthPRI)\n",
    "rthSKY = pd.read_csv(rthSKY)\n",
    "    \n",
    "avg_array_ge = rth750['T1 (mean)']\n",
    "std_array_ge = rth750['T1 (std)']\n",
    "cur_tag_ge = 'neutral G1'\n",
    "\n",
    "avg_array_sie = np.mean([rthPRI['T1 (mean)'],rthSKY['T1 (mean)']],axis=0)\n",
    "std_array_sie = np.mean([rthPRI['T1 (std)'],rthSKY['T1 (std)']],axis=0)\n",
    "cur_tag = 'neutral S1-2'\n",
    "\n",
    "avg_array_all = np.mean([rth750['T1 (mean)'],rthPRI['T1 (mean)'],rthSKY['T1 (mean)']],axis=0)\n",
    "std_array_all = np.mean([rthPRI['T1 (std)'],rthSKY['T1 (std)']],axis=0)\n",
    "\n",
    "df[cur_tag + '_mean'] = avg_array\n",
    "df[cur_tag + '_std'] = std_array\n",
    "upper_sie = list(np.squeeze(np.array(avg_array_sie)) + np.squeeze(np.array(std_array_sie)))\n",
    "lower_sie = list(np.squeeze(np.array(avg_array_sie)) - np.squeeze(np.array(std_array_sie)))\n",
    "upper_ge = list(np.squeeze(np.array(avg_array_ge)) + np.squeeze(np.array(std_array_ge)))\n",
    "lower_ge = list(np.squeeze(np.array(avg_array_ge)) - np.squeeze(np.array(std_array_ge)))\n",
    "\n",
    "\n",
    "fig.add_trace(go.Scatter(\n",
    "    x=refMean[:lastN], y=refMean[:lastN],\n",
    "    line_color='black',\n",
    "    mode = 'markers',\n",
    "    name = 'Reference',\n",
    "    marker = dict(size=30,symbol='cross-open',line = dict(width=2))\n",
    "\n",
    "))\n",
    "fig.add_trace(go.Scatter(\n",
    "    x=refMean[:lastN], y=avg_array_sie[:lastN],\n",
    "    line_color='orange',\n",
    "    name= 'neutral S1-2',\n",
    "    marker = dict(size=20,symbol='circle',line=dict(color='black',width=1.5),opacity=0.9),\n",
    "    line=dict(width=2, dash='dash'),\n",
    "    line_shape='spline',\n",
    "    customdata= np.round(((np.array(avg_array_sie[:lastN]) - np.array(refMean[:lastN]))/np.array(refMean[:lastN]))*100,2),\n",
    "    hovertemplate='<br>%{y},<b>∆T1:</b>%{customdata}',\n",
    "    hoverlabel = dict(namelength = -1)\n",
    "))\n",
    "fig.add_trace(go.Scatter(\n",
    "    x=refMean[:lastN], y=avg_array_ge[:lastN],\n",
    "    line_color='rgba(202,73,68,1)',\n",
    "    name= 'neutral G1',\n",
    "    marker = dict(size=20,symbol='circle',line=dict(color='black',width=1.5),opacity=0.9),\n",
    "    line=dict(width=2, dash='dash'),\n",
    "    line_shape='spline',\n",
    "    customdata= np.round(((np.array(avg_array_ge[:lastN]) - np.array(refMean[:lastN]))/np.array(refMean[:lastN]))*100,2),\n",
    "    hovertemplate='<br>%{y},<b>∆T1:</b>%{customdata}',\n",
    "    hoverlabel = dict(namelength = -1)\n",
    "))\n",
    "fig.add_trace(go.Scatter(\n",
    "    x=refMean[:lastN], y=avg_array_all[:lastN],\n",
    "    line_color='rgba(0,0,0,1)',\n",
    "    name= 'neutral',\n",
    "    marker = dict(size=5,symbol='circle',line=dict(color='black',width=1.5),opacity=0.9),\n",
    "    line=dict(width=2, dash='dash'),\n",
    "    line_shape='spline',\n",
    "    customdata= np.round(((np.array(avg_array_all[:lastN]) - np.array(refMean[:lastN]))/np.array(refMean[:lastN]))*100,2),\n",
    "    hovertemplate='<br>%{y},<b>∆T1:</b>%{customdata}',\n",
    "    hoverlabel = dict(namelength = -1)\n",
    "))\n",
    "vendor750 = derivativesDir + '/sub-phantom/' + 'ses-' + sessions[0] + '/stat/sub-phantom_ses-' + sessions[0] + '_stat_summary.csv'\n",
    "vendorPRI = derivativesDir + '/sub-phantom/' + 'ses-' + sessions[1] + '/stat/sub-phantom_ses-' + sessions[1] + '_stat_summary.csv'\n",
    "vendorSKY = derivativesDir + '/sub-phantom/' + 'ses-' + sessions[2] + '/stat/sub-phantom_ses-' + sessions[2] + '_stat_summary.csv'\n",
    "vendor750 = pd.read_csv(vendor750)\n",
    "vendorPRI = pd.read_csv(vendorPRI)\n",
    "vendorSKY = pd.read_csv(vendorSKY)\n",
    "    \n",
    "avg_array_ge = vendor750['T1 (mean)']\n",
    "std_array_ge = vendor750['T1 (std)']\n",
    "\n",
    "avg_array_sie = np.mean([vendorPRI['T1 (mean)'],vendorSKY['T1 (mean)']],axis=0)\n",
    "std_array_sie = np.mean([vendorPRI['T1 (std)'],vendorSKY['T1 (std)']],axis=0)\n",
    "cur_tag = 'neutral'\n",
    "\n",
    "avg_array_all = np.mean([vendor750['T1 (mean)'],vendorPRI['T1 (mean)'],vendorSKY['T1 (mean)']],axis=0)\n",
    "\n",
    "df[cur_tag + '_mean'] = avg_array\n",
    "df[cur_tag + '_std'] = std_array\n",
    "upper_sie = list(np.squeeze(np.array(avg_array_sie)) + np.squeeze(np.array(std_array_sie)))\n",
    "lower_sie = list(np.squeeze(np.array(avg_array_sie)) - np.squeeze(np.array(std_array_sie)))\n",
    "upper_ge = list(np.squeeze(np.array(avg_array_ge)) + np.squeeze(np.array(std_array_ge)))\n",
    "lower_ge = list(np.squeeze(np.array(avg_array_ge)) - np.squeeze(np.array(std_array_ge)))\n",
    "\n",
    "fig.add_trace(go.Scatter(\n",
    "    x=refMean[:lastN], y=avg_array_sie[:lastN],\n",
    "    line_color='green',\n",
    "    name= 'native S1-2',\n",
    "    marker = dict(size=20,symbol='square',line=dict(color='black',width=1.5),opacity=0.9),\n",
    "    line=dict(width=2, dash='solid'),\n",
    "    line_shape='spline',\n",
    "    customdata= np.round(((np.array(avg_array_sie[:lastN]) - np.array(refMean[:lastN]))/np.array(refMean[:lastN]))*100,2),\n",
    "    hovertemplate='<br>%{y}, <b>∆T1:</b>%{customdata}',\n",
    "    hoverlabel = dict(namelength = -1)\n",
    "\n",
    "))\n",
    "fig.add_trace(go.Scatter(\n",
    "    x=refMean[:lastN], y=avg_array_ge[:lastN],\n",
    "    line_color='rgba(31,119,180,0.8)',\n",
    "    name= 'native G1',\n",
    "    marker = dict(size=20,symbol='square',line=dict(color='black',width=1.5),opacity=0.9),\n",
    "    line=dict(width=2, dash='solid'),\n",
    "    line_shape='spline',\n",
    "    customdata= np.round(((np.array(avg_array_ge[:lastN]) - np.array(refMean[:lastN]))/np.array(refMean[:lastN]))*100,2),\n",
    "    hovertemplate='<br>%{y}, <b>∆T1:</b>%{customdata}',\n",
    "    hoverlabel = dict(namelength = -1)\n",
    "))\n",
    "fig.add_trace(go.Scatter(\n",
    "    x=refMean[:lastN], y=avg_array_all[:lastN],\n",
    "    line_color='rgba(0,0,0,1)',\n",
    "    name= 'native',\n",
    "    marker = dict(size=5,symbol='square',line=dict(color='black',width=1.5),opacity=0.9),\n",
    "    line=dict(width=2, dash='solid'),\n",
    "    line_shape='spline',\n",
    "    customdata= np.round(((np.array(avg_array_all[:lastN]) - np.array(refMean[:lastN]))/np.array(refMean[:lastN]))*100,2),\n",
    "    hovertemplate='<br>%{y},<b>∆T1:</b>%{customdata}',\n",
    "    hoverlabel = dict(namelength = -1)\n",
    "))\n",
    "fig.update_layout(height=1100, width=800)\n",
    "axis_template = dict(linecolor = 'black', \n",
    "                     showticklabels = True,\n",
    "                     tickfont=dict(color=\"black\"), \n",
    "                     gridcolor = 'lightsteelblue',\n",
    "                     tickvals = refMean[::-1],)\n",
    "tickvals=refMean\n",
    "ticktext=[\"R10\",\"R9\",\"R8\",\"R7\",\"R6\",\"R5\",\"R4\",\"R3\",\"R2\",\"R1\"]\n",
    "\n",
    "fig.update_xaxes(axis_template,title=\"Reference T1 (s)\")\n",
    "fig.update_yaxes(axis_template,tickmode=\"array\",tickvals=tickvals[:lastN],ticktext=ticktext[:lastN],title=\"Reference Spheres\")\n",
    "\n",
    "fig.update_layout(hovermode = \"x\")\n",
    "\n",
    "\n",
    "fig.show()"
   ]
  }
 ],
 "metadata": {
  "celltoolbar": "Edit Metadata",
  "kernelspec": {
   "display_name": "Python 3",
   "language": "python",
   "name": "python3"
  },
  "language_info": {
   "codemirror_mode": {
    "name": "ipython",
    "version": 3
   },
   "file_extension": ".py",
   "mimetype": "text/x-python",
   "name": "python",
   "nbconvert_exporter": "python",
   "pygments_lexer": "ipython3",
   "version": "3.6.12"
  }
 },
 "nbformat": 4,
 "nbformat_minor": 4
}
